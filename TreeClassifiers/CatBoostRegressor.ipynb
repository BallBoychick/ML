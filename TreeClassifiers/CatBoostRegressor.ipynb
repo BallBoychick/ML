{
 "cells": [
  {
   "cell_type": "code",
   "execution_count": 18,
   "metadata": {},
   "outputs": [],
   "source": [
    "import pandas as pd\n",
    "import matplotlib.pyplot as plt\n",
    "import numpy as np\n",
    "\n",
    "from itertools import combinations, chain\n",
    "\n",
    "from catboost import CatBoostRegressor\n",
    "\n",
    "from sklearn.model_selection import train_test_split\n",
    "from sklearn.metrics import mean_absolute_error, mean_squared_error, mean_absolute_percentage_error\n",
    "\n",
    "from joblib import dump\n"
   ]
  },
  {
   "cell_type": "code",
   "execution_count": 19,
   "metadata": {},
   "outputs": [
    {
     "data": {
      "text/plain": [
       "0"
      ]
     },
     "execution_count": 19,
     "metadata": {},
     "output_type": "execute_result"
    }
   ],
   "source": [
    "df = pd.read_csv('../data/dataset_regression.csv')\n",
    "df.drop(['Unnamed: 0'], axis=1, inplace=True)\n",
    "df.isnull().sum().sum()"
   ]
  },
  {
   "cell_type": "code",
   "execution_count": 20,
   "metadata": {},
   "outputs": [],
   "source": [
    "y = df[\"price_usd\"]\n",
    "X = df.drop([\"price_usd\"], axis=1)"
   ]
  },
  {
   "cell_type": "code",
   "execution_count": 21,
   "metadata": {},
   "outputs": [],
   "source": [
    "X_train, X_test, y_train, y_test = train_test_split(X, y, test_size=1/3)"
   ]
  },
  {
   "cell_type": "code",
   "execution_count": 22,
   "metadata": {},
   "outputs": [],
   "source": [
    "cbr = CatBoostRegressor(learning_rate=0.05, \n",
    "                        task_type=\"GPU\",\n",
    "                        devices='0:4',\n",
    "                        logging_level='Verbose'\n",
    "                        )"
   ]
  },
  {
   "cell_type": "code",
   "execution_count": 23,
   "metadata": {},
   "outputs": [],
   "source": [
    "params = {'depth': np.arange(3, 10), \n",
    "          'l2_leaf_reg': np.arange(1, 20),\n",
    "          'bootstrap_type': ['Bayesian', 'Bernoulli', 'Poisson'],\n",
    "          'num_trees': np.arange(1, 20)\n",
    "          }"
   ]
  },
  {
   "cell_type": "code",
   "execution_count": 24,
   "metadata": {},
   "outputs": [
    {
     "name": "stdout",
     "output_type": "stream",
     "text": [
      "0:\tlearn: 8451.8112615\ttest: 8238.4001554\tbest: 8238.4001554 (0)\ttotal: 19.2ms\tremaining: 115ms\n",
      "1:\tlearn: 8152.7497202\ttest: 7932.9419915\tbest: 7932.9419915 (1)\ttotal: 35.2ms\tremaining: 88.1ms\n",
      "2:\tlearn: 7867.6570134\ttest: 7636.6489824\tbest: 7636.6489824 (2)\ttotal: 50.8ms\tremaining: 67.7ms\n",
      "3:\tlearn: 7596.7154165\ttest: 7346.9017361\tbest: 7346.9017361 (3)\ttotal: 69.8ms\tremaining: 52.4ms\n",
      "4:\tlearn: 7348.9520559\ttest: 7088.3344391\tbest: 7088.3344391 (4)\ttotal: 80.9ms\tremaining: 32.4ms\n",
      "5:\tlearn: 7102.3497182\ttest: 6817.9317450\tbest: 6817.9317450 (5)\ttotal: 93.9ms\tremaining: 15.7ms\n",
      "6:\tlearn: 6871.3955497\ttest: 6578.2084856\tbest: 6578.2084856 (6)\ttotal: 108ms\tremaining: 0us\n",
      "bestTest = 6578.208486\n",
      "bestIteration = 6\n",
      "0:\tloss: 6578.2084856\tbest: 6578.2084856 (0)\ttotal: 266ms\tremaining: 532ms\n",
      "0:\tlearn: 8429.4305003\ttest: 8228.4719359\tbest: 8228.4719359 (0)\ttotal: 37.6ms\tremaining: 150ms\n",
      "1:\tlearn: 8121.4994478\ttest: 7903.6650941\tbest: 7903.6650941 (1)\ttotal: 51.2ms\tremaining: 76.7ms\n",
      "2:\tlearn: 7809.8220825\ttest: 7576.5178281\tbest: 7576.5178281 (2)\ttotal: 66.6ms\tremaining: 44.4ms\n",
      "3:\tlearn: 7519.0167868\ttest: 7268.5057391\tbest: 7268.5057391 (3)\ttotal: 80.4ms\tremaining: 20.1ms\n",
      "4:\tlearn: 7238.2811661\ttest: 6974.7830131\tbest: 6974.7830131 (4)\ttotal: 97.7ms\tremaining: 0us\n",
      "bestTest = 6974.783013\n",
      "bestIteration = 4\n",
      "1:\tloss: 6974.7830131\tbest: 6578.2084856 (0)\ttotal: 376ms\tremaining: 188ms\n",
      "0:\tlearn: 8446.1537376\ttest: 8230.3474337\tbest: 8230.3474337 (0)\ttotal: 28ms\tremaining: 140ms\n",
      "1:\tlearn: 8147.8680009\ttest: 7921.4246799\tbest: 7921.4246799 (1)\ttotal: 41ms\tremaining: 82ms\n",
      "2:\tlearn: 7872.7144391\ttest: 7627.1468007\tbest: 7627.1468007 (2)\ttotal: 85.4ms\tremaining: 85.4ms\n",
      "3:\tlearn: 7585.1388175\ttest: 7314.5462525\tbest: 7314.5462525 (3)\ttotal: 101ms\tremaining: 50.6ms\n",
      "4:\tlearn: 7321.9957935\ttest: 7035.5640570\tbest: 7035.5640570 (4)\ttotal: 123ms\tremaining: 24.6ms\n",
      "5:\tlearn: 7082.5336935\ttest: 6792.1045928\tbest: 6792.1045928 (5)\ttotal: 143ms\tremaining: 0us\n",
      "bestTest = 6792.104593\n",
      "bestIteration = 5\n",
      "2:\tloss: 6792.1045928\tbest: 6578.2084856 (0)\ttotal: 531ms\tremaining: 0us\n",
      "Estimating final quality...\n",
      "Training on fold [0/3]\n",
      "0:\tlearn: 8565.0739417\ttest: 8093.9355016\tbest: 8093.9355016 (0)\ttotal: 17.4ms\tremaining: 104ms\n",
      "1:\tlearn: 8258.8231782\ttest: 7820.1189938\tbest: 7820.1189938 (1)\ttotal: 29ms\tremaining: 72.4ms\n",
      "2:\tlearn: 7959.9112796\ttest: 7547.8181866\tbest: 7547.8181866 (2)\ttotal: 41.4ms\tremaining: 55.2ms\n",
      "3:\tlearn: 7683.1593101\ttest: 7301.2062526\tbest: 7301.2062526 (3)\ttotal: 60.7ms\tremaining: 45.5ms\n",
      "4:\tlearn: 7424.3520679\ttest: 7065.9972899\tbest: 7065.9972899 (4)\ttotal: 75.8ms\tremaining: 30.3ms\n",
      "5:\tlearn: 7169.7929975\ttest: 6843.8274825\tbest: 6843.8274825 (5)\ttotal: 92.8ms\tremaining: 15.5ms\n",
      "6:\tlearn: 6937.7057315\ttest: 6638.6972245\tbest: 6638.6972245 (6)\ttotal: 108ms\tremaining: 0us\n",
      "bestTest = 6638.697224\n",
      "bestIteration = 6\n",
      "Training on fold [1/3]\n",
      "0:\tlearn: 8160.2254841\ttest: 8917.9364424\tbest: 8917.9364424 (0)\ttotal: 18.1ms\tremaining: 109ms\n",
      "1:\tlearn: 7864.0471767\ttest: 8611.1621953\tbest: 8611.1621953 (1)\ttotal: 32.1ms\tremaining: 80.2ms\n",
      "2:\tlearn: 7580.2663650\ttest: 8322.6839746\tbest: 8322.6839746 (2)\ttotal: 48.9ms\tremaining: 65.2ms\n",
      "3:\tlearn: 7309.6952397\ttest: 8053.9245890\tbest: 8053.9245890 (3)\ttotal: 66.2ms\tremaining: 49.6ms\n",
      "4:\tlearn: 7068.2059467\ttest: 7806.6947169\tbest: 7806.6947169 (4)\ttotal: 78.9ms\tremaining: 31.6ms\n",
      "5:\tlearn: 6827.0805472\ttest: 7568.2561334\tbest: 7568.2561334 (5)\ttotal: 94.7ms\tremaining: 15.8ms\n",
      "6:\tlearn: 6606.4895994\ttest: 7359.3958232\tbest: 7359.3958232 (6)\ttotal: 111ms\tremaining: 0us\n",
      "bestTest = 7359.395823\n",
      "bestIteration = 6\n",
      "Training on fold [2/3]\n",
      "0:\tlearn: 8507.4558555\ttest: 8212.9611709\tbest: 8212.9611709 (0)\ttotal: 16.2ms\tremaining: 97.2ms\n",
      "1:\tlearn: 8207.7517227\ttest: 7899.5306570\tbest: 7899.5306570 (1)\ttotal: 29.5ms\tremaining: 73.7ms\n",
      "2:\tlearn: 7920.6281459\ttest: 7601.4036320\tbest: 7601.4036320 (2)\ttotal: 46ms\tremaining: 61.3ms\n",
      "3:\tlearn: 7647.8310784\ttest: 7315.4751929\tbest: 7315.4751929 (3)\ttotal: 60.7ms\tremaining: 45.5ms\n",
      "4:\tlearn: 7403.9026947\ttest: 7071.5808173\tbest: 7071.5808173 (4)\ttotal: 74.7ms\tremaining: 29.9ms\n",
      "5:\tlearn: 7171.8004489\ttest: 6838.2734663\tbest: 6838.2734663 (5)\ttotal: 92.4ms\tremaining: 15.4ms\n",
      "6:\tlearn: 6947.0000636\ttest: 6602.3508926\tbest: 6602.3508926 (6)\ttotal: 108ms\tremaining: 0us\n",
      "bestTest = 6602.350893\n",
      "bestIteration = 6\n"
     ]
    }
   ],
   "source": [
    "catboost_regressor = cbr.randomized_search(params, X=X_train[0:1000], y=y_train[0:1000], n_iter=3)"
   ]
  },
  {
   "cell_type": "code",
   "execution_count": 25,
   "metadata": {},
   "outputs": [
    {
     "name": "stdout",
     "output_type": "stream",
     "text": [
      "0:\tlearn: 6184.6102377\ttotal: 48.8ms\tremaining: 293ms\n",
      "1:\tlearn: 5963.5362570\ttotal: 56.3ms\tremaining: 141ms\n",
      "2:\tlearn: 5755.0002030\ttotal: 61.9ms\tremaining: 82.6ms\n",
      "3:\tlearn: 5559.4049814\ttotal: 70.6ms\tremaining: 53ms\n",
      "4:\tlearn: 5378.6377673\ttotal: 76.1ms\tremaining: 30.4ms\n",
      "5:\tlearn: 5204.8724747\ttotal: 82.1ms\tremaining: 13.7ms\n",
      "6:\tlearn: 5041.9601950\ttotal: 89.8ms\tremaining: 0us\n"
     ]
    },
    {
     "data": {
      "text/plain": [
       "<catboost.core.CatBoostRegressor at 0x1c37c31cca0>"
      ]
     },
     "execution_count": 25,
     "metadata": {},
     "output_type": "execute_result"
    }
   ],
   "source": [
    "cbr.fit(X_train, y_train)"
   ]
  },
  {
   "cell_type": "code",
   "execution_count": 26,
   "metadata": {},
   "outputs": [
    {
     "data": {
      "text/plain": [
       "array([7703.65632248, 6761.1138792 , 5695.45965958, ..., 5608.8406601 ,\n",
       "       5551.60674286, 6911.96682167])"
      ]
     },
     "execution_count": 26,
     "metadata": {},
     "output_type": "execute_result"
    }
   ],
   "source": [
    "cbr_predict = cbr.predict(X_test)\n",
    "cbr_predict"
   ]
  },
  {
   "cell_type": "code",
   "execution_count": 27,
   "metadata": {},
   "outputs": [
    {
     "data": {
      "text/plain": [
       "{'MAE': 3505.192553043869,\n",
       " 'RMSE': 25634782.20675658,\n",
       " 'MSE': 5063.080308148053,\n",
       " 'MAPE': 0.5096251560451207,\n",
       " 'R^2': 0.3828437219591503}"
      ]
     },
     "execution_count": 27,
     "metadata": {},
     "output_type": "execute_result"
    }
   ],
   "source": [
    "errors = {'MAE': mean_absolute_error(cbr_predict, y_test), \n",
    "          'RMSE': mean_squared_error(cbr_predict, y_test),\n",
    "          'MSE': mean_squared_error(cbr_predict, y_test)**0.5,\n",
    "          'MAPE': mean_absolute_percentage_error(cbr_predict, y_test),\n",
    "          'R^2': cbr.score(X_test, y_test)}\n",
    "errors"
   ]
  }
 ],
 "metadata": {
  "kernelspec": {
   "display_name": "Python 3.10.4 ('venv': venv)",
   "language": "python",
   "name": "python3"
  },
  "language_info": {
   "codemirror_mode": {
    "name": "ipython",
    "version": 3
   },
   "file_extension": ".py",
   "mimetype": "text/x-python",
   "name": "python",
   "nbconvert_exporter": "python",
   "pygments_lexer": "ipython3",
   "version": "3.10.4"
  },
  "orig_nbformat": 4,
  "vscode": {
   "interpreter": {
    "hash": "4144813e17b6f5f448ed6aaed98153edd3ff37cd658fee1dbd1b201beaf41009"
   }
  }
 },
 "nbformat": 4,
 "nbformat_minor": 2
}
