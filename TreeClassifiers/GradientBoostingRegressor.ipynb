{
 "cells": [
  {
   "cell_type": "code",
   "execution_count": 9,
   "metadata": {},
   "outputs": [],
   "source": [
    "import pandas as pd\n",
    "import numpy as np\n",
    "from sklearn.tree import DecisionTreeRegressor \n",
    "from sklearn import datasets\n",
    "from sklearn import tree\n",
    "from matplotlib import pyplot as plt\n",
    "from sklearn.model_selection import GridSearchCV, RandomizedSearchCV\n",
    "from sklearn.metrics import mean_squared_error, mean_absolute_error, mean_absolute_percentage_error\n",
    "from math import sqrt\n",
    "from sklearn.model_selection import train_test_split\n",
    "from sklearn.ensemble import GradientBoostingRegressor"
   ]
  },
  {
   "cell_type": "code",
   "execution_count": 10,
   "metadata": {},
   "outputs": [
    {
     "data": {
      "text/plain": [
       "0"
      ]
     },
     "execution_count": 10,
     "metadata": {},
     "output_type": "execute_result"
    }
   ],
   "source": [
    "df = pd.read_csv('../data/dataset_regression.csv')\n",
    "df.drop(['Unnamed: 0'], axis=1, inplace=True)\n",
    "df.isnull().sum().sum()"
   ]
  },
  {
   "cell_type": "code",
   "execution_count": 11,
   "metadata": {},
   "outputs": [],
   "source": [
    "y = df[\"price_usd\"]\n",
    "X = df.drop([\"price_usd\"], axis=1)"
   ]
  },
  {
   "cell_type": "code",
   "execution_count": 12,
   "metadata": {},
   "outputs": [],
   "source": [
    "X_train, X_test, y_train, y_test = train_test_split(X, y, test_size=1/3)"
   ]
  },
  {
   "cell_type": "code",
   "execution_count": 19,
   "metadata": {},
   "outputs": [
    {
     "data": {
      "text/plain": [
       "{'n_estimators': 161,\n",
       " 'min_weight_fraction_leaf': 0.08,\n",
       " 'min_samples_split': 3,\n",
       " 'min_samples_leaf': 1,\n",
       " 'max_depth': 3,\n",
       " 'loss': 'absolute_error',\n",
       " 'criterion': 'squared_error',\n",
       " 'alpha': 0.67}"
      ]
     },
     "execution_count": 19,
     "metadata": {},
     "output_type": "execute_result"
    }
   ],
   "source": [
    "gradient_boosting_regressor_optimal_params = RandomizedSearchCV(GradientBoostingRegressor(),\n",
    "                                                                 {\n",
    "                                                                    'loss': ['squared_error', 'huber', 'absolute_error', 'quantile'],\n",
    "                                                                    'n_estimators': np.arange(50, 200),\n",
    "                                                                    'criterion': ['friedman_mse', 'squared_error'],\n",
    "                                                                    'min_samples_split': np.arange(2, 10),\n",
    "                                                                    'min_samples_leaf': np.arange(1, 9),\n",
    "                                                                    'min_weight_fraction_leaf': np.arange(0, 0.5, 0.01),\n",
    "                                                                    'max_depth': np.arange(3, 4),\n",
    "                                                                    'alpha': np.arange(0, 1, 0.01)\n",
    "                                                                 },\n",
    "                                                                 n_iter=4,\n",
    "                                                                 n_jobs=4,\n",
    "                                                                 random_state=71\n",
    "                                                                 ).fit(X_train, y_train)\n",
    "gradient_boosting_regressor_optimal_params.best_params_"
   ]
  },
  {
   "cell_type": "code",
   "execution_count": 20,
   "metadata": {},
   "outputs": [
    {
     "data": {
      "text/plain": [
       "array([ 2306.87022547,  7364.53101347, 13109.68112526, ...,\n",
       "        2193.25764468, 12275.07748275, 17219.00001329])"
      ]
     },
     "execution_count": 20,
     "metadata": {},
     "output_type": "execute_result"
    }
   ],
   "source": [
    "y_predict = gradient_boosting_regressor_optimal_params.predict(X_test)\n",
    "y_predict"
   ]
  },
  {
   "cell_type": "code",
   "execution_count": 21,
   "metadata": {},
   "outputs": [
    {
     "data": {
      "text/plain": [
       "{'MAE': 1499.030318994498,\n",
       " 'RMSE': 8913522.750792518,\n",
       " 'MSE': 2985.55233596608,\n",
       " 'MAPE': 0.28643815732960204,\n",
       " 'R^2': 0.7828987429953077}"
      ]
     },
     "execution_count": 21,
     "metadata": {},
     "output_type": "execute_result"
    }
   ],
   "source": [
    "errors = {'MAE': mean_absolute_error(y_predict, y_test), \n",
    "          'RMSE': mean_squared_error(y_predict, y_test),\n",
    "          'MSE': mean_squared_error(y_predict, y_test)**0.5,\n",
    "          'MAPE': mean_absolute_percentage_error(y_predict, y_test),\n",
    "          'R^2': gradient_boosting_regressor_optimal_params.score(X_test, y_test)}\n",
    "errors"
   ]
  }
 ],
 "metadata": {
  "kernelspec": {
   "display_name": "Python 3.10.4 ('venv': venv)",
   "language": "python",
   "name": "python3"
  },
  "language_info": {
   "codemirror_mode": {
    "name": "ipython",
    "version": 3
   },
   "file_extension": ".py",
   "mimetype": "text/x-python",
   "name": "python",
   "nbconvert_exporter": "python",
   "pygments_lexer": "ipython3",
   "version": "3.10.4"
  },
  "orig_nbformat": 4,
  "vscode": {
   "interpreter": {
    "hash": "4144813e17b6f5f448ed6aaed98153edd3ff37cd658fee1dbd1b201beaf41009"
   }
  }
 },
 "nbformat": 4,
 "nbformat_minor": 2
}
