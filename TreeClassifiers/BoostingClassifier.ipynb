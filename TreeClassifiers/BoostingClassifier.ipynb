{
 "cells": [
  {
   "cell_type": "code",
   "execution_count": 1,
   "metadata": {},
   "outputs": [],
   "source": [
    "import pandas as pd\n",
    "import numpy as np\n",
    "from sklearn.tree import DecisionTreeClassifier \n",
    "from sklearn import datasets\n",
    "from sklearn import tree\n",
    "from matplotlib import pyplot as plt\n",
    "from sklearn.ensemble import GradientBoostingClassifier\n",
    "from sklearn.neighbors import KNeighborsClassifier\n",
    "from sklearn.model_selection import train_test_split\n",
    "from sklearn.metrics import accuracy_score, confusion_matrix, classification_report, roc_curve, RocCurveDisplay, auc\n",
    "from sklearn.model_selection import GridSearchCV, RandomizedSearchCV\n",
    "from sklearn.ensemble import RandomForestClassifier"
   ]
  },
  {
   "cell_type": "code",
   "execution_count": 2,
   "metadata": {},
   "outputs": [
    {
     "data": {
      "text/plain": [
       "0"
      ]
     },
     "execution_count": 2,
     "metadata": {},
     "output_type": "execute_result"
    }
   ],
   "source": [
    "df = pd.read_csv('../data/balanced_sclaer_dataset_diabetes.csv')\n",
    "df.drop(['Unnamed: 0'], axis=1, inplace=True)\n",
    "df.isnull().sum().sum()"
   ]
  },
  {
   "cell_type": "code",
   "execution_count": 3,
   "metadata": {},
   "outputs": [],
   "source": [
    "y = df[\"Diabetes_012\"]\n",
    "X = df.drop([\"Diabetes_012\"], axis=1)"
   ]
  },
  {
   "cell_type": "code",
   "execution_count": 4,
   "metadata": {},
   "outputs": [],
   "source": [
    "X_train, X_test, y_train, y_test = train_test_split(X, y, test_size=1/3)"
   ]
  },
  {
   "cell_type": "code",
   "execution_count": 5,
   "metadata": {},
   "outputs": [],
   "source": [
    "# clf = GradientBoostingClassifier(n_estimators=100, learning_rate=1.0,\n",
    "#     max_depth=1, random_state=0).fit(X_train, y_train)"
   ]
  },
  {
   "cell_type": "code",
   "execution_count": 6,
   "metadata": {},
   "outputs": [],
   "source": [
    "# clf.score(X_test, y_test)"
   ]
  },
  {
   "cell_type": "code",
   "execution_count": 7,
   "metadata": {},
   "outputs": [
    {
     "data": {
      "text/plain": [
       "{'n_estimators': 113,\n",
       " 'min_weight_fraction_leaf': 0.0,\n",
       " 'min_samples_split': 9,\n",
       " 'min_samples_leaf': 6,\n",
       " 'max_depth': 9,\n",
       " 'criterion': 'squared_error'}"
      ]
     },
     "execution_count": 7,
     "metadata": {},
     "output_type": "execute_result"
    }
   ],
   "source": [
    "optimal_gradient_boosting_classifier = RandomizedSearchCV(GradientBoostingClassifier(),\n",
    "                                                                 {\n",
    "                                                                    'n_estimators': np.arange(50, 150),\n",
    "                                                                    'criterion': ['friedman_mse', 'squared_error'],\n",
    "                                                                    'min_samples_split': np.arange(2, 10),\n",
    "                                                                    'min_samples_leaf': np.arange(1, 9),\n",
    "                                                                    'min_weight_fraction_leaf': np.arange(0, 0.5, 0.1),\n",
    "                                                                    'max_depth': np.arange(4, 15)\n",
    "                                                                 },\n",
    "                                                                 n_iter=4,\n",
    "                                                                 n_jobs=4,\n",
    "                                                                 scoring='accuracy',\n",
    "                                                                 random_state=71\n",
    "                                                                 ).fit(X_train, y_train)\n",
    "optimal_gradient_boosting_classifier.best_params_"
   ]
  },
  {
   "cell_type": "code",
   "execution_count": 8,
   "metadata": {},
   "outputs": [],
   "source": [
    "pred_train = optimal_gradient_boosting_classifier.predict(X_test)"
   ]
  },
  {
   "cell_type": "code",
   "execution_count": 9,
   "metadata": {},
   "outputs": [
    {
     "data": {
      "text/plain": [
       "array([2., 2., 2., ..., 1., 2., 1.])"
      ]
     },
     "execution_count": 9,
     "metadata": {},
     "output_type": "execute_result"
    }
   ],
   "source": [
    "pred_train"
   ]
  },
  {
   "cell_type": "code",
   "execution_count": 10,
   "metadata": {},
   "outputs": [
    {
     "name": "stdout",
     "output_type": "stream",
     "text": [
      "              precision    recall  f1-score   support\n",
      "\n",
      "         0.0       0.75      0.70      0.72     11734\n",
      "         1.0       0.98      0.98      0.98     11625\n",
      "         2.0       0.72      0.78      0.75     11738\n",
      "\n",
      "    accuracy                           0.82     35097\n",
      "   macro avg       0.82      0.82      0.82     35097\n",
      "weighted avg       0.82      0.82      0.82     35097\n",
      "\n"
     ]
    }
   ],
   "source": [
    "print(classification_report(y_test,  pred_train))"
   ]
  }
 ],
 "metadata": {
  "kernelspec": {
   "display_name": "Python 3.10.4 ('venv': venv)",
   "language": "python",
   "name": "python3"
  },
  "language_info": {
   "codemirror_mode": {
    "name": "ipython",
    "version": 3
   },
   "file_extension": ".py",
   "mimetype": "text/x-python",
   "name": "python",
   "nbconvert_exporter": "python",
   "pygments_lexer": "ipython3",
   "version": "3.10.4"
  },
  "orig_nbformat": 4,
  "vscode": {
   "interpreter": {
    "hash": "4144813e17b6f5f448ed6aaed98153edd3ff37cd658fee1dbd1b201beaf41009"
   }
  }
 },
 "nbformat": 4,
 "nbformat_minor": 2
}
