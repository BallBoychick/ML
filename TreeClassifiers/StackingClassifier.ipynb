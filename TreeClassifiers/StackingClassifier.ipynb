{
 "cells": [
  {
   "cell_type": "code",
   "execution_count": 1,
   "metadata": {},
   "outputs": [],
   "source": [
    "import pandas as pd\n",
    "import numpy as np\n",
    "from sklearn.tree import DecisionTreeClassifier \n",
    "from sklearn import datasets\n",
    "from sklearn import tree\n",
    "from matplotlib import pyplot as plt\n",
    "from sklearn.ensemble import GradientBoostingClassifier\n",
    "from sklearn.neighbors import KNeighborsClassifier\n",
    "from sklearn.model_selection import train_test_split\n",
    "from sklearn.metrics import accuracy_score, confusion_matrix, classification_report, roc_curve, RocCurveDisplay, auc\n",
    "from sklearn.model_selection import GridSearchCV, RandomizedSearchCV\n",
    "from sklearn.ensemble import RandomForestClassifier\n",
    "from sklearn.ensemble import StackingClassifier\n",
    "from sklearn.naive_bayes import GaussianNB\n",
    "from sklearn.linear_model import LogisticRegression"
   ]
  },
  {
   "cell_type": "code",
   "execution_count": 2,
   "metadata": {},
   "outputs": [
    {
     "data": {
      "text/plain": [
       "0"
      ]
     },
     "execution_count": 2,
     "metadata": {},
     "output_type": "execute_result"
    }
   ],
   "source": [
    "df = pd.read_csv('../data/balanced_sclaer_dataset_diabetes.csv')\n",
    "df.drop(['Unnamed: 0'], axis=1, inplace=True)\n",
    "df.isnull().sum().sum()"
   ]
  },
  {
   "cell_type": "code",
   "execution_count": 3,
   "metadata": {},
   "outputs": [],
   "source": [
    "y = df[\"Diabetes_012\"]\n",
    "X = df.drop([\"Diabetes_012\"], axis=1)"
   ]
  },
  {
   "cell_type": "code",
   "execution_count": 4,
   "metadata": {},
   "outputs": [],
   "source": [
    "X_train, X_test, y_train, y_test = train_test_split(X, y, test_size=1/3)"
   ]
  },
  {
   "cell_type": "code",
   "execution_count": 5,
   "metadata": {},
   "outputs": [
    {
     "data": {
      "text/plain": [
       "{'metric': 'minkowski', 'n_neighbors': 3, 'p': 1}"
      ]
     },
     "execution_count": 5,
     "metadata": {},
     "output_type": "execute_result"
    }
   ],
   "source": [
    "#KNN\n",
    "knn_optimal = GridSearchCV(KNeighborsClassifier(), \n",
    "                                             {'n_neighbors': np.arange(3, 5, 1),\n",
    "                                              'p': np.arange(1, 2, 1),\n",
    "                                              \"metric\" : [\"euclidean\", \"minkowski\"]\n",
    "                                              },\n",
    "                                              ).fit(X_train[0:10000], y_train[0:10000])\n",
    "knn_optimal.best_params_"
   ]
  },
  {
   "cell_type": "code",
   "execution_count": 6,
   "metadata": {},
   "outputs": [],
   "source": [
    "#NB\n",
    "gnb = GaussianNB()\n",
    "GNB = gnb.fit(X_train[0:10000], y_train[0:10000])"
   ]
  },
  {
   "cell_type": "code",
   "execution_count": 7,
   "metadata": {},
   "outputs": [],
   "source": [
    "#LB\n",
    "log_reg_grid = {\"C\" : np.logspace(-4, 4, 20),\n",
    "               \"solver\":[\"liblinear\"]}\n",
    "random_logr = RandomizedSearchCV(LogisticRegression(),\n",
    "                               param_distributions=log_reg_grid,\n",
    "                               cv=5,\n",
    "                               n_iter=10,\n",
    "                               random_state=0).fit(X_train[0:10000], y_train[0:10000])"
   ]
  },
  {
   "cell_type": "code",
   "execution_count": 8,
   "metadata": {},
   "outputs": [
    {
     "data": {
      "text/plain": [
       "{'solver': 'liblinear', 'C': 1.623776739188721}"
      ]
     },
     "execution_count": 8,
     "metadata": {},
     "output_type": "execute_result"
    }
   ],
   "source": [
    "random_logr.best_params_"
   ]
  },
  {
   "cell_type": "code",
   "execution_count": 9,
   "metadata": {},
   "outputs": [],
   "source": [
    "estimators3 = [('model1', knn_optimal.best_estimator_), ('model2', GaussianNB()), ('model3', random_logr.best_estimator_)]"
   ]
  },
  {
   "cell_type": "code",
   "execution_count": 10,
   "metadata": {},
   "outputs": [
    {
     "data": {
      "text/plain": [
       "{'n_jobs': 3}"
      ]
     },
     "execution_count": 10,
     "metadata": {},
     "output_type": "execute_result"
    }
   ],
   "source": [
    "stacking_classifier_optimal = GridSearchCV(StackingClassifier(estimators3, estimators3[2][1]),\n",
    "                                                          {\n",
    "                                                              'n_jobs' : np.arange(2, 6, 1),\n",
    "                                                          }\n",
    "                                                          ).fit(X_train[0:10000], y_train[0:10000])\n",
    "stacking_classifier_optimal.best_params_"
   ]
  },
  {
   "cell_type": "code",
   "execution_count": 11,
   "metadata": {},
   "outputs": [
    {
     "data": {
      "text/plain": [
       "array([0., 0., 2., ..., 1., 0., 1.])"
      ]
     },
     "execution_count": 11,
     "metadata": {},
     "output_type": "execute_result"
    }
   ],
   "source": [
    "pred_train = stacking_classifier_optimal.predict(X_test[0:30000])\n",
    "pred_train"
   ]
  },
  {
   "cell_type": "code",
   "execution_count": 12,
   "metadata": {},
   "outputs": [
    {
     "name": "stdout",
     "output_type": "stream",
     "text": [
      "              precision    recall  f1-score   support\n",
      "\n",
      "         0.0       0.72      0.66      0.69     10129\n",
      "         1.0       0.86      0.90      0.88     10040\n",
      "         2.0       0.68      0.70      0.69      9831\n",
      "\n",
      "    accuracy                           0.76     30000\n",
      "   macro avg       0.75      0.76      0.75     30000\n",
      "weighted avg       0.75      0.76      0.76     30000\n",
      "\n"
     ]
    }
   ],
   "source": [
    "print(classification_report(y_test[0:30000],  pred_train))"
   ]
  }
 ],
 "metadata": {
  "kernelspec": {
   "display_name": "Python 3.10.4 ('venv': venv)",
   "language": "python",
   "name": "python3"
  },
  "language_info": {
   "codemirror_mode": {
    "name": "ipython",
    "version": 3
   },
   "file_extension": ".py",
   "mimetype": "text/x-python",
   "name": "python",
   "nbconvert_exporter": "python",
   "pygments_lexer": "ipython3",
   "version": "3.10.4"
  },
  "orig_nbformat": 4,
  "vscode": {
   "interpreter": {
    "hash": "4144813e17b6f5f448ed6aaed98153edd3ff37cd658fee1dbd1b201beaf41009"
   }
  }
 },
 "nbformat": 4,
 "nbformat_minor": 2
}
