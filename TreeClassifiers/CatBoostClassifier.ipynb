{
 "cells": [
  {
   "cell_type": "code",
   "execution_count": 1,
   "metadata": {},
   "outputs": [],
   "source": [
    "import pandas as pd\n",
    "import matplotlib.pyplot as plt\n",
    "import numpy as np\n",
    "\n",
    "from itertools import combinations, chain\n",
    "\n",
    "from catboost import CatBoostClassifier\n",
    "\n",
    "from sklearn.model_selection import train_test_split\n",
    "from sklearn.metrics import accuracy_score, confusion_matrix, classification_report, roc_curve, RocCurveDisplay, auc\n",
    "\n",
    "from joblib import dump"
   ]
  },
  {
   "cell_type": "code",
   "execution_count": 2,
   "metadata": {},
   "outputs": [],
   "source": [
    "df = pd.read_csv('../data/balanced_sclaer_dataset_diabetes.csv')"
   ]
  },
  {
   "cell_type": "code",
   "execution_count": 3,
   "metadata": {},
   "outputs": [],
   "source": [
    "df.drop(['Unnamed: 0'], axis=1, inplace=True)"
   ]
  },
  {
   "cell_type": "code",
   "execution_count": 4,
   "metadata": {},
   "outputs": [
    {
     "data": {
      "text/plain": [
       "0"
      ]
     },
     "execution_count": 4,
     "metadata": {},
     "output_type": "execute_result"
    }
   ],
   "source": [
    "df.isnull().sum().sum()"
   ]
  },
  {
   "cell_type": "code",
   "execution_count": 5,
   "metadata": {},
   "outputs": [],
   "source": [
    "y = df[\"Diabetes_012\"]\n",
    "X = df.drop([\"Diabetes_012\"], axis=1)"
   ]
  },
  {
   "cell_type": "code",
   "execution_count": 6,
   "metadata": {},
   "outputs": [],
   "source": [
    "X_train, X_test, y_train, y_test = train_test_split(X, y, test_size=1/3)"
   ]
  },
  {
   "cell_type": "code",
   "execution_count": 7,
   "metadata": {},
   "outputs": [],
   "source": [
    "cbc = CatBoostClassifier(learning_rate=0.05, \n",
    "                        task_type=\"GPU\",\n",
    "                        devices='0:4',\n",
    "                        logging_level='Verbose'\n",
    "                        )"
   ]
  },
  {
   "cell_type": "markdown",
   "metadata": {},
   "source": [
    "erbose — Output the following data to stdout:\n",
    "\n",
    "* optimized metric\n",
    "* elapsed time of training\n",
    "* remaining time of training"
   ]
  },
  {
   "cell_type": "code",
   "execution_count": 8,
   "metadata": {},
   "outputs": [],
   "source": [
    "params = {'depth': np.arange(3, 10), \n",
    "          'l2_leaf_reg': np.arange(1, 20),\n",
    "          'bootstrap_type': ['Bayesian', 'Bernoulli', 'Poisson'],\n",
    "          'num_trees': np.arange(1, 20)\n",
    "          }"
   ]
  },
  {
   "cell_type": "code",
   "execution_count": 9,
   "metadata": {},
   "outputs": [
    {
     "name": "stdout",
     "output_type": "stream",
     "text": [
      "0:\tlearn: 1.0851707\ttest: 1.0859483\tbest: 1.0859483 (0)\ttotal: 9.77ms\tremaining: 58.6ms\n",
      "1:\tlearn: 1.0737978\ttest: 1.0751582\tbest: 1.0751582 (1)\ttotal: 17.8ms\tremaining: 44.5ms\n",
      "2:\tlearn: 1.0621120\ttest: 1.0641824\tbest: 1.0641824 (2)\ttotal: 25.3ms\tremaining: 33.8ms\n",
      "3:\tlearn: 1.0502919\ttest: 1.0539333\tbest: 1.0539333 (3)\ttotal: 33ms\tremaining: 24.8ms\n",
      "4:\tlearn: 1.0364744\ttest: 1.0396290\tbest: 1.0396290 (4)\ttotal: 41.5ms\tremaining: 16.6ms\n",
      "5:\tlearn: 1.0266420\ttest: 1.0299426\tbest: 1.0299426 (5)\ttotal: 50ms\tremaining: 8.33ms\n",
      "6:\tlearn: 1.0139904\ttest: 1.0168272\tbest: 1.0168272 (6)\ttotal: 58ms\tremaining: 0us\n",
      "bestTest = 1.016827164\n",
      "bestIteration = 6\n",
      "0:\tloss: 1.0168272\tbest: 1.0168272 (0)\ttotal: 291ms\tremaining: 582ms\n",
      "0:\tlearn: 1.0775548\ttest: 1.0776524\tbest: 1.0776524 (0)\ttotal: 13.9ms\tremaining: 55.6ms\n",
      "1:\tlearn: 1.0570544\ttest: 1.0599390\tbest: 1.0599390 (1)\ttotal: 26.9ms\tremaining: 40.3ms\n",
      "2:\tlearn: 1.0368778\ttest: 1.0409631\tbest: 1.0409631 (2)\ttotal: 39ms\tremaining: 26ms\n",
      "3:\tlearn: 1.0167662\ttest: 1.0221600\tbest: 1.0221600 (3)\ttotal: 53.5ms\tremaining: 13.4ms\n",
      "4:\tlearn: 0.9976765\ttest: 1.0045781\tbest: 1.0045781 (4)\ttotal: 67.7ms\tremaining: 0us\n",
      "bestTest = 1.004578094\n",
      "bestIteration = 4\n",
      "1:\tloss: 1.0045781\tbest: 1.0045781 (1)\ttotal: 364ms\tremaining: 182ms\n",
      "0:\tlearn: 1.0822548\ttest: 1.0840515\tbest: 1.0840515 (0)\ttotal: 19.1ms\tremaining: 95.3ms\n",
      "1:\tlearn: 1.0679192\ttest: 1.0720326\tbest: 1.0720326 (1)\ttotal: 36.3ms\tremaining: 72.5ms\n",
      "2:\tlearn: 1.0526604\ttest: 1.0565194\tbest: 1.0565194 (2)\ttotal: 52.3ms\tremaining: 52.3ms\n",
      "3:\tlearn: 1.0390752\ttest: 1.0440230\tbest: 1.0440230 (3)\ttotal: 70.9ms\tremaining: 35.5ms\n",
      "4:\tlearn: 1.0274502\ttest: 1.0339845\tbest: 1.0339845 (4)\ttotal: 87.3ms\tremaining: 17.5ms\n",
      "5:\tlearn: 1.0140772\ttest: 1.0204637\tbest: 1.0204637 (5)\ttotal: 103ms\tremaining: 0us\n",
      "bestTest = 1.020463715\n",
      "bestIteration = 5\n",
      "2:\tloss: 1.0204637\tbest: 1.0045781 (1)\ttotal: 475ms\tremaining: 0us\n",
      "Estimating final quality...\n",
      "Training on fold [0/3]\n",
      "0:\tlearn: 1.0752436\ttest: 1.0813167\tbest: 1.0813167 (0)\ttotal: 18.2ms\tremaining: 73ms\n",
      "1:\tlearn: 1.0553028\ttest: 1.0703853\tbest: 1.0703853 (1)\ttotal: 34.9ms\tremaining: 52.3ms\n",
      "2:\tlearn: 1.0332542\ttest: 1.0545308\tbest: 1.0545308 (2)\ttotal: 49.5ms\tremaining: 33ms\n",
      "3:\tlearn: 1.0121767\ttest: 1.0401462\tbest: 1.0401462 (3)\ttotal: 64ms\tremaining: 16ms\n",
      "4:\tlearn: 0.9962914\ttest: 1.0310575\tbest: 1.0310575 (4)\ttotal: 79ms\tremaining: 0us\n",
      "bestTest = 1.031057512\n",
      "bestIteration = 4\n",
      "Training on fold [1/3]\n",
      "0:\tlearn: 1.0741209\ttest: 1.0785607\tbest: 1.0785607 (0)\ttotal: 16.3ms\tremaining: 65.2ms\n",
      "1:\tlearn: 1.0519282\ttest: 1.0619959\tbest: 1.0619959 (1)\ttotal: 37ms\tremaining: 55.5ms\n",
      "2:\tlearn: 1.0310219\ttest: 1.0471831\tbest: 1.0471831 (2)\ttotal: 50.5ms\tremaining: 33.7ms\n",
      "3:\tlearn: 1.0109724\ttest: 1.0325735\tbest: 1.0325735 (3)\ttotal: 66.6ms\tremaining: 16.7ms\n",
      "4:\tlearn: 0.9917928\ttest: 1.0177920\tbest: 1.0177920 (4)\ttotal: 81.9ms\tremaining: 0us\n",
      "bestTest = 1.017792023\n",
      "bestIteration = 4\n",
      "Training on fold [2/3]\n",
      "0:\tlearn: 1.0794842\ttest: 1.0823093\tbest: 1.0823093 (0)\ttotal: 15ms\tremaining: 60.1ms\n",
      "1:\tlearn: 1.0601640\ttest: 1.0654836\tbest: 1.0654836 (1)\ttotal: 27.4ms\tremaining: 41.2ms\n",
      "2:\tlearn: 1.0387909\ttest: 1.0458903\tbest: 1.0458903 (2)\ttotal: 42.7ms\tremaining: 28.5ms\n",
      "3:\tlearn: 1.0193807\ttest: 1.0287604\tbest: 1.0287604 (3)\ttotal: 57.2ms\tremaining: 14.3ms\n",
      "4:\tlearn: 1.0044291\ttest: 1.0180807\tbest: 1.0180807 (4)\ttotal: 71.5ms\tremaining: 0us\n",
      "bestTest = 1.018080746\n",
      "bestIteration = 4\n"
     ]
    }
   ],
   "source": [
    "catboost_classifier = cbc.randomized_search(params, X=X_train[0:1000], y=y_train[0:1000], n_iter=3)"
   ]
  },
  {
   "cell_type": "code",
   "execution_count": 12,
   "metadata": {},
   "outputs": [
    {
     "name": "stdout",
     "output_type": "stream",
     "text": [
      "0:\tlearn: 1.0610596\ttotal: 51.6ms\tremaining: 206ms\n",
      "1:\tlearn: 1.0280341\ttotal: 76.1ms\tremaining: 114ms\n",
      "2:\tlearn: 0.9966855\ttotal: 93.6ms\tremaining: 62.4ms\n",
      "3:\tlearn: 0.9705781\ttotal: 112ms\tremaining: 28.1ms\n",
      "4:\tlearn: 0.9443678\ttotal: 131ms\tremaining: 0us\n"
     ]
    },
    {
     "data": {
      "text/plain": [
       "<catboost.core.CatBoostClassifier at 0x19b0cdc0550>"
      ]
     },
     "execution_count": 12,
     "metadata": {},
     "output_type": "execute_result"
    }
   ],
   "source": [
    "cbc.fit(X_train, y_train)"
   ]
  },
  {
   "cell_type": "code",
   "execution_count": 13,
   "metadata": {},
   "outputs": [
    {
     "data": {
      "text/plain": [
       "array([[2.],\n",
       "       [1.],\n",
       "       [2.],\n",
       "       ...,\n",
       "       [1.],\n",
       "       [2.],\n",
       "       [2.]])"
      ]
     },
     "execution_count": 13,
     "metadata": {},
     "output_type": "execute_result"
    }
   ],
   "source": [
    "cbc_predict = cbc.predict(X_test)\n",
    "cbc_predict"
   ]
  },
  {
   "cell_type": "code",
   "execution_count": 14,
   "metadata": {},
   "outputs": [
    {
     "name": "stdout",
     "output_type": "stream",
     "text": [
      "              precision    recall  f1-score   support\n",
      "\n",
      "         0.0       0.69      0.67      0.68     11774\n",
      "         1.0       0.98      0.69      0.81     11638\n",
      "         2.0       0.58      0.77      0.67     11685\n",
      "\n",
      "    accuracy                           0.71     35097\n",
      "   macro avg       0.75      0.71      0.72     35097\n",
      "weighted avg       0.75      0.71      0.72     35097\n",
      "\n"
     ]
    }
   ],
   "source": [
    "print(classification_report(y_test, cbc_predict))"
   ]
  }
 ],
 "metadata": {
  "kernelspec": {
   "display_name": "Python 3.10.4 ('venv': venv)",
   "language": "python",
   "name": "python3"
  },
  "language_info": {
   "codemirror_mode": {
    "name": "ipython",
    "version": 3
   },
   "file_extension": ".py",
   "mimetype": "text/x-python",
   "name": "python",
   "nbconvert_exporter": "python",
   "pygments_lexer": "ipython3",
   "version": "3.10.4"
  },
  "orig_nbformat": 4,
  "vscode": {
   "interpreter": {
    "hash": "4144813e17b6f5f448ed6aaed98153edd3ff37cd658fee1dbd1b201beaf41009"
   }
  }
 },
 "nbformat": 4,
 "nbformat_minor": 2
}
