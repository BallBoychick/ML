{
 "cells": [
  {
   "cell_type": "markdown",
   "metadata": {},
   "source": [
    "# Выделение целевого признака"
   ]
  },
  {
   "cell_type": "code",
   "execution_count": 2,
   "metadata": {},
   "outputs": [],
   "source": [
    "import pandas as pd\n",
    "import matplotlib.pyplot as plt\n",
    "import numpy as np"
   ]
  },
  {
   "cell_type": "code",
   "execution_count": 3,
   "metadata": {},
   "outputs": [],
   "source": [
    "data = pd.read_csv('../data/dataset.csv')\n",
    "data.drop(['Unnamed: 0'], axis=1, inplace=True)"
   ]
  },
  {
   "cell_type": "code",
   "execution_count": 4,
   "metadata": {},
   "outputs": [
    {
     "data": {
      "text/html": [
       "<div>\n",
       "<style scoped>\n",
       "    .dataframe tbody tr th:only-of-type {\n",
       "        vertical-align: middle;\n",
       "    }\n",
       "\n",
       "    .dataframe tbody tr th {\n",
       "        vertical-align: top;\n",
       "    }\n",
       "\n",
       "    .dataframe thead th {\n",
       "        text-align: right;\n",
       "    }\n",
       "</style>\n",
       "<table border=\"1\" class=\"dataframe\">\n",
       "  <thead>\n",
       "    <tr style=\"text-align: right;\">\n",
       "      <th></th>\n",
       "      <th>manufacturer_name</th>\n",
       "      <th>model_name</th>\n",
       "      <th>transmission</th>\n",
       "      <th>color</th>\n",
       "      <th>odometer_value</th>\n",
       "      <th>year_produced</th>\n",
       "      <th>engine_fuel</th>\n",
       "      <th>engine_has_gas</th>\n",
       "      <th>engine_type</th>\n",
       "      <th>engine_capacity</th>\n",
       "      <th>...</th>\n",
       "      <th>feature_1</th>\n",
       "      <th>feature_2</th>\n",
       "      <th>feature_3</th>\n",
       "      <th>feature_4</th>\n",
       "      <th>feature_5</th>\n",
       "      <th>feature_6</th>\n",
       "      <th>feature_7</th>\n",
       "      <th>feature_8</th>\n",
       "      <th>feature_9</th>\n",
       "      <th>duration_listed</th>\n",
       "    </tr>\n",
       "  </thead>\n",
       "  <tbody>\n",
       "    <tr>\n",
       "      <th>0</th>\n",
       "      <td>0</td>\n",
       "      <td>0</td>\n",
       "      <td>1</td>\n",
       "      <td>0</td>\n",
       "      <td>190000</td>\n",
       "      <td>2010</td>\n",
       "      <td>0</td>\n",
       "      <td>0</td>\n",
       "      <td>0</td>\n",
       "      <td>2.5</td>\n",
       "      <td>...</td>\n",
       "      <td>1</td>\n",
       "      <td>1</td>\n",
       "      <td>1</td>\n",
       "      <td>0</td>\n",
       "      <td>1</td>\n",
       "      <td>0</td>\n",
       "      <td>1</td>\n",
       "      <td>1</td>\n",
       "      <td>1</td>\n",
       "      <td>16</td>\n",
       "    </tr>\n",
       "    <tr>\n",
       "      <th>1</th>\n",
       "      <td>0</td>\n",
       "      <td>0</td>\n",
       "      <td>1</td>\n",
       "      <td>1</td>\n",
       "      <td>290000</td>\n",
       "      <td>2002</td>\n",
       "      <td>0</td>\n",
       "      <td>0</td>\n",
       "      <td>0</td>\n",
       "      <td>3.0</td>\n",
       "      <td>...</td>\n",
       "      <td>1</td>\n",
       "      <td>0</td>\n",
       "      <td>0</td>\n",
       "      <td>1</td>\n",
       "      <td>1</td>\n",
       "      <td>0</td>\n",
       "      <td>0</td>\n",
       "      <td>0</td>\n",
       "      <td>1</td>\n",
       "      <td>83</td>\n",
       "    </tr>\n",
       "    <tr>\n",
       "      <th>2</th>\n",
       "      <td>0</td>\n",
       "      <td>1</td>\n",
       "      <td>1</td>\n",
       "      <td>2</td>\n",
       "      <td>402000</td>\n",
       "      <td>2001</td>\n",
       "      <td>0</td>\n",
       "      <td>0</td>\n",
       "      <td>0</td>\n",
       "      <td>2.5</td>\n",
       "      <td>...</td>\n",
       "      <td>1</td>\n",
       "      <td>0</td>\n",
       "      <td>0</td>\n",
       "      <td>0</td>\n",
       "      <td>0</td>\n",
       "      <td>0</td>\n",
       "      <td>0</td>\n",
       "      <td>1</td>\n",
       "      <td>1</td>\n",
       "      <td>151</td>\n",
       "    </tr>\n",
       "    <tr>\n",
       "      <th>3</th>\n",
       "      <td>0</td>\n",
       "      <td>2</td>\n",
       "      <td>0</td>\n",
       "      <td>1</td>\n",
       "      <td>10000</td>\n",
       "      <td>1999</td>\n",
       "      <td>0</td>\n",
       "      <td>0</td>\n",
       "      <td>0</td>\n",
       "      <td>3.0</td>\n",
       "      <td>...</td>\n",
       "      <td>0</td>\n",
       "      <td>0</td>\n",
       "      <td>0</td>\n",
       "      <td>0</td>\n",
       "      <td>0</td>\n",
       "      <td>0</td>\n",
       "      <td>0</td>\n",
       "      <td>0</td>\n",
       "      <td>0</td>\n",
       "      <td>86</td>\n",
       "    </tr>\n",
       "    <tr>\n",
       "      <th>4</th>\n",
       "      <td>0</td>\n",
       "      <td>3</td>\n",
       "      <td>1</td>\n",
       "      <td>3</td>\n",
       "      <td>280000</td>\n",
       "      <td>2001</td>\n",
       "      <td>0</td>\n",
       "      <td>0</td>\n",
       "      <td>0</td>\n",
       "      <td>2.5</td>\n",
       "      <td>...</td>\n",
       "      <td>1</td>\n",
       "      <td>0</td>\n",
       "      <td>1</td>\n",
       "      <td>1</td>\n",
       "      <td>0</td>\n",
       "      <td>0</td>\n",
       "      <td>0</td>\n",
       "      <td>0</td>\n",
       "      <td>1</td>\n",
       "      <td>7</td>\n",
       "    </tr>\n",
       "    <tr>\n",
       "      <th>...</th>\n",
       "      <td>...</td>\n",
       "      <td>...</td>\n",
       "      <td>...</td>\n",
       "      <td>...</td>\n",
       "      <td>...</td>\n",
       "      <td>...</td>\n",
       "      <td>...</td>\n",
       "      <td>...</td>\n",
       "      <td>...</td>\n",
       "      <td>...</td>\n",
       "      <td>...</td>\n",
       "      <td>...</td>\n",
       "      <td>...</td>\n",
       "      <td>...</td>\n",
       "      <td>...</td>\n",
       "      <td>...</td>\n",
       "      <td>...</td>\n",
       "      <td>...</td>\n",
       "      <td>...</td>\n",
       "      <td>...</td>\n",
       "      <td>...</td>\n",
       "    </tr>\n",
       "    <tr>\n",
       "      <th>38526</th>\n",
       "      <td>54</td>\n",
       "      <td>1108</td>\n",
       "      <td>1</td>\n",
       "      <td>0</td>\n",
       "      <td>290000</td>\n",
       "      <td>2000</td>\n",
       "      <td>0</td>\n",
       "      <td>0</td>\n",
       "      <td>0</td>\n",
       "      <td>3.5</td>\n",
       "      <td>...</td>\n",
       "      <td>1</td>\n",
       "      <td>0</td>\n",
       "      <td>0</td>\n",
       "      <td>1</td>\n",
       "      <td>1</td>\n",
       "      <td>0</td>\n",
       "      <td>0</td>\n",
       "      <td>1</td>\n",
       "      <td>1</td>\n",
       "      <td>301</td>\n",
       "    </tr>\n",
       "    <tr>\n",
       "      <th>38527</th>\n",
       "      <td>54</td>\n",
       "      <td>1111</td>\n",
       "      <td>0</td>\n",
       "      <td>1</td>\n",
       "      <td>321000</td>\n",
       "      <td>2004</td>\n",
       "      <td>2</td>\n",
       "      <td>0</td>\n",
       "      <td>1</td>\n",
       "      <td>2.2</td>\n",
       "      <td>...</td>\n",
       "      <td>1</td>\n",
       "      <td>0</td>\n",
       "      <td>0</td>\n",
       "      <td>1</td>\n",
       "      <td>1</td>\n",
       "      <td>0</td>\n",
       "      <td>0</td>\n",
       "      <td>1</td>\n",
       "      <td>1</td>\n",
       "      <td>317</td>\n",
       "    </tr>\n",
       "    <tr>\n",
       "      <th>38528</th>\n",
       "      <td>54</td>\n",
       "      <td>1108</td>\n",
       "      <td>1</td>\n",
       "      <td>1</td>\n",
       "      <td>777957</td>\n",
       "      <td>2000</td>\n",
       "      <td>0</td>\n",
       "      <td>0</td>\n",
       "      <td>0</td>\n",
       "      <td>3.5</td>\n",
       "      <td>...</td>\n",
       "      <td>1</td>\n",
       "      <td>0</td>\n",
       "      <td>0</td>\n",
       "      <td>1</td>\n",
       "      <td>1</td>\n",
       "      <td>0</td>\n",
       "      <td>0</td>\n",
       "      <td>1</td>\n",
       "      <td>1</td>\n",
       "      <td>369</td>\n",
       "    </tr>\n",
       "    <tr>\n",
       "      <th>38529</th>\n",
       "      <td>54</td>\n",
       "      <td>1111</td>\n",
       "      <td>0</td>\n",
       "      <td>3</td>\n",
       "      <td>20000</td>\n",
       "      <td>2001</td>\n",
       "      <td>0</td>\n",
       "      <td>0</td>\n",
       "      <td>0</td>\n",
       "      <td>2.0</td>\n",
       "      <td>...</td>\n",
       "      <td>1</td>\n",
       "      <td>0</td>\n",
       "      <td>0</td>\n",
       "      <td>0</td>\n",
       "      <td>0</td>\n",
       "      <td>0</td>\n",
       "      <td>0</td>\n",
       "      <td>0</td>\n",
       "      <td>1</td>\n",
       "      <td>490</td>\n",
       "    </tr>\n",
       "    <tr>\n",
       "      <th>38530</th>\n",
       "      <td>54</td>\n",
       "      <td>1106</td>\n",
       "      <td>1</td>\n",
       "      <td>0</td>\n",
       "      <td>297729</td>\n",
       "      <td>2000</td>\n",
       "      <td>0</td>\n",
       "      <td>0</td>\n",
       "      <td>0</td>\n",
       "      <td>2.4</td>\n",
       "      <td>...</td>\n",
       "      <td>0</td>\n",
       "      <td>0</td>\n",
       "      <td>0</td>\n",
       "      <td>0</td>\n",
       "      <td>0</td>\n",
       "      <td>0</td>\n",
       "      <td>0</td>\n",
       "      <td>0</td>\n",
       "      <td>1</td>\n",
       "      <td>632</td>\n",
       "    </tr>\n",
       "  </tbody>\n",
       "</table>\n",
       "<p>38531 rows × 30 columns</p>\n",
       "</div>"
      ],
      "text/plain": [
       "       manufacturer_name  model_name  transmission  color  odometer_value  \\\n",
       "0                      0           0             1      0          190000   \n",
       "1                      0           0             1      1          290000   \n",
       "2                      0           1             1      2          402000   \n",
       "3                      0           2             0      1           10000   \n",
       "4                      0           3             1      3          280000   \n",
       "...                  ...         ...           ...    ...             ...   \n",
       "38526                 54        1108             1      0          290000   \n",
       "38527                 54        1111             0      1          321000   \n",
       "38528                 54        1108             1      1          777957   \n",
       "38529                 54        1111             0      3           20000   \n",
       "38530                 54        1106             1      0          297729   \n",
       "\n",
       "       year_produced  engine_fuel  engine_has_gas  engine_type  \\\n",
       "0               2010            0               0            0   \n",
       "1               2002            0               0            0   \n",
       "2               2001            0               0            0   \n",
       "3               1999            0               0            0   \n",
       "4               2001            0               0            0   \n",
       "...              ...          ...             ...          ...   \n",
       "38526           2000            0               0            0   \n",
       "38527           2004            2               0            1   \n",
       "38528           2000            0               0            0   \n",
       "38529           2001            0               0            0   \n",
       "38530           2000            0               0            0   \n",
       "\n",
       "       engine_capacity  ...  feature_1  feature_2  feature_3  feature_4  \\\n",
       "0                  2.5  ...          1          1          1          0   \n",
       "1                  3.0  ...          1          0          0          1   \n",
       "2                  2.5  ...          1          0          0          0   \n",
       "3                  3.0  ...          0          0          0          0   \n",
       "4                  2.5  ...          1          0          1          1   \n",
       "...                ...  ...        ...        ...        ...        ...   \n",
       "38526              3.5  ...          1          0          0          1   \n",
       "38527              2.2  ...          1          0          0          1   \n",
       "38528              3.5  ...          1          0          0          1   \n",
       "38529              2.0  ...          1          0          0          0   \n",
       "38530              2.4  ...          0          0          0          0   \n",
       "\n",
       "       feature_5  feature_6  feature_7  feature_8  feature_9  duration_listed  \n",
       "0              1          0          1          1          1               16  \n",
       "1              1          0          0          0          1               83  \n",
       "2              0          0          0          1          1              151  \n",
       "3              0          0          0          0          0               86  \n",
       "4              0          0          0          0          1                7  \n",
       "...          ...        ...        ...        ...        ...              ...  \n",
       "38526          1          0          0          1          1              301  \n",
       "38527          1          0          0          1          1              317  \n",
       "38528          1          0          0          1          1              369  \n",
       "38529          0          0          0          0          1              490  \n",
       "38530          0          0          0          0          1              632  \n",
       "\n",
       "[38531 rows x 30 columns]"
      ]
     },
     "execution_count": 4,
     "metadata": {},
     "output_type": "execute_result"
    }
   ],
   "source": [
    "data"
   ]
  },
  {
   "cell_type": "code",
   "execution_count": 5,
   "metadata": {},
   "outputs": [
    {
     "data": {
      "text/plain": [
       "1500.00    637\n",
       "3500.00    568\n",
       "2000.00    561\n",
       "1000.00    552\n",
       "2500.00    546\n",
       "          ... \n",
       "6053.23      1\n",
       "9130.00      1\n",
       "8661.20      1\n",
       "4097.51      1\n",
       "5666.00      1\n",
       "Name: price_usd, Length: 2677, dtype: int64"
      ]
     },
     "execution_count": 5,
     "metadata": {},
     "output_type": "execute_result"
    }
   ],
   "source": [
    "data['price_usd'].value_counts()"
   ]
  },
  {
   "cell_type": "code",
   "execution_count": 6,
   "metadata": {},
   "outputs": [],
   "source": [
    "y = data[\"price_usd\"]\n",
    "X = data.drop([\"price_usd\"], axis=1)"
   ]
  },
  {
   "cell_type": "code",
   "execution_count": 7,
   "metadata": {},
   "outputs": [
    {
     "data": {
      "text/plain": [
       "0        10900.00\n",
       "1         5000.00\n",
       "2         2800.00\n",
       "3         9999.00\n",
       "4         2134.11\n",
       "           ...   \n",
       "38526     2750.00\n",
       "38527     4800.00\n",
       "38528     4300.00\n",
       "38529     4000.00\n",
       "38530     3200.00\n",
       "Name: price_usd, Length: 38531, dtype: float64"
      ]
     },
     "execution_count": 7,
     "metadata": {},
     "output_type": "execute_result"
    }
   ],
   "source": [
    "y"
   ]
  },
  {
   "cell_type": "code",
   "execution_count": 8,
   "metadata": {},
   "outputs": [
    {
     "data": {
      "text/html": [
       "<div>\n",
       "<style scoped>\n",
       "    .dataframe tbody tr th:only-of-type {\n",
       "        vertical-align: middle;\n",
       "    }\n",
       "\n",
       "    .dataframe tbody tr th {\n",
       "        vertical-align: top;\n",
       "    }\n",
       "\n",
       "    .dataframe thead th {\n",
       "        text-align: right;\n",
       "    }\n",
       "</style>\n",
       "<table border=\"1\" class=\"dataframe\">\n",
       "  <thead>\n",
       "    <tr style=\"text-align: right;\">\n",
       "      <th></th>\n",
       "      <th>manufacturer_name</th>\n",
       "      <th>model_name</th>\n",
       "      <th>transmission</th>\n",
       "      <th>color</th>\n",
       "      <th>odometer_value</th>\n",
       "      <th>year_produced</th>\n",
       "      <th>engine_fuel</th>\n",
       "      <th>engine_has_gas</th>\n",
       "      <th>engine_type</th>\n",
       "      <th>engine_capacity</th>\n",
       "      <th>...</th>\n",
       "      <th>feature_1</th>\n",
       "      <th>feature_2</th>\n",
       "      <th>feature_3</th>\n",
       "      <th>feature_4</th>\n",
       "      <th>feature_5</th>\n",
       "      <th>feature_6</th>\n",
       "      <th>feature_7</th>\n",
       "      <th>feature_8</th>\n",
       "      <th>feature_9</th>\n",
       "      <th>duration_listed</th>\n",
       "    </tr>\n",
       "  </thead>\n",
       "  <tbody>\n",
       "    <tr>\n",
       "      <th>0</th>\n",
       "      <td>0</td>\n",
       "      <td>0</td>\n",
       "      <td>1</td>\n",
       "      <td>0</td>\n",
       "      <td>190000</td>\n",
       "      <td>2010</td>\n",
       "      <td>0</td>\n",
       "      <td>0</td>\n",
       "      <td>0</td>\n",
       "      <td>2.5</td>\n",
       "      <td>...</td>\n",
       "      <td>1</td>\n",
       "      <td>1</td>\n",
       "      <td>1</td>\n",
       "      <td>0</td>\n",
       "      <td>1</td>\n",
       "      <td>0</td>\n",
       "      <td>1</td>\n",
       "      <td>1</td>\n",
       "      <td>1</td>\n",
       "      <td>16</td>\n",
       "    </tr>\n",
       "    <tr>\n",
       "      <th>1</th>\n",
       "      <td>0</td>\n",
       "      <td>0</td>\n",
       "      <td>1</td>\n",
       "      <td>1</td>\n",
       "      <td>290000</td>\n",
       "      <td>2002</td>\n",
       "      <td>0</td>\n",
       "      <td>0</td>\n",
       "      <td>0</td>\n",
       "      <td>3.0</td>\n",
       "      <td>...</td>\n",
       "      <td>1</td>\n",
       "      <td>0</td>\n",
       "      <td>0</td>\n",
       "      <td>1</td>\n",
       "      <td>1</td>\n",
       "      <td>0</td>\n",
       "      <td>0</td>\n",
       "      <td>0</td>\n",
       "      <td>1</td>\n",
       "      <td>83</td>\n",
       "    </tr>\n",
       "    <tr>\n",
       "      <th>2</th>\n",
       "      <td>0</td>\n",
       "      <td>1</td>\n",
       "      <td>1</td>\n",
       "      <td>2</td>\n",
       "      <td>402000</td>\n",
       "      <td>2001</td>\n",
       "      <td>0</td>\n",
       "      <td>0</td>\n",
       "      <td>0</td>\n",
       "      <td>2.5</td>\n",
       "      <td>...</td>\n",
       "      <td>1</td>\n",
       "      <td>0</td>\n",
       "      <td>0</td>\n",
       "      <td>0</td>\n",
       "      <td>0</td>\n",
       "      <td>0</td>\n",
       "      <td>0</td>\n",
       "      <td>1</td>\n",
       "      <td>1</td>\n",
       "      <td>151</td>\n",
       "    </tr>\n",
       "    <tr>\n",
       "      <th>3</th>\n",
       "      <td>0</td>\n",
       "      <td>2</td>\n",
       "      <td>0</td>\n",
       "      <td>1</td>\n",
       "      <td>10000</td>\n",
       "      <td>1999</td>\n",
       "      <td>0</td>\n",
       "      <td>0</td>\n",
       "      <td>0</td>\n",
       "      <td>3.0</td>\n",
       "      <td>...</td>\n",
       "      <td>0</td>\n",
       "      <td>0</td>\n",
       "      <td>0</td>\n",
       "      <td>0</td>\n",
       "      <td>0</td>\n",
       "      <td>0</td>\n",
       "      <td>0</td>\n",
       "      <td>0</td>\n",
       "      <td>0</td>\n",
       "      <td>86</td>\n",
       "    </tr>\n",
       "    <tr>\n",
       "      <th>4</th>\n",
       "      <td>0</td>\n",
       "      <td>3</td>\n",
       "      <td>1</td>\n",
       "      <td>3</td>\n",
       "      <td>280000</td>\n",
       "      <td>2001</td>\n",
       "      <td>0</td>\n",
       "      <td>0</td>\n",
       "      <td>0</td>\n",
       "      <td>2.5</td>\n",
       "      <td>...</td>\n",
       "      <td>1</td>\n",
       "      <td>0</td>\n",
       "      <td>1</td>\n",
       "      <td>1</td>\n",
       "      <td>0</td>\n",
       "      <td>0</td>\n",
       "      <td>0</td>\n",
       "      <td>0</td>\n",
       "      <td>1</td>\n",
       "      <td>7</td>\n",
       "    </tr>\n",
       "    <tr>\n",
       "      <th>...</th>\n",
       "      <td>...</td>\n",
       "      <td>...</td>\n",
       "      <td>...</td>\n",
       "      <td>...</td>\n",
       "      <td>...</td>\n",
       "      <td>...</td>\n",
       "      <td>...</td>\n",
       "      <td>...</td>\n",
       "      <td>...</td>\n",
       "      <td>...</td>\n",
       "      <td>...</td>\n",
       "      <td>...</td>\n",
       "      <td>...</td>\n",
       "      <td>...</td>\n",
       "      <td>...</td>\n",
       "      <td>...</td>\n",
       "      <td>...</td>\n",
       "      <td>...</td>\n",
       "      <td>...</td>\n",
       "      <td>...</td>\n",
       "      <td>...</td>\n",
       "    </tr>\n",
       "    <tr>\n",
       "      <th>38526</th>\n",
       "      <td>54</td>\n",
       "      <td>1108</td>\n",
       "      <td>1</td>\n",
       "      <td>0</td>\n",
       "      <td>290000</td>\n",
       "      <td>2000</td>\n",
       "      <td>0</td>\n",
       "      <td>0</td>\n",
       "      <td>0</td>\n",
       "      <td>3.5</td>\n",
       "      <td>...</td>\n",
       "      <td>1</td>\n",
       "      <td>0</td>\n",
       "      <td>0</td>\n",
       "      <td>1</td>\n",
       "      <td>1</td>\n",
       "      <td>0</td>\n",
       "      <td>0</td>\n",
       "      <td>1</td>\n",
       "      <td>1</td>\n",
       "      <td>301</td>\n",
       "    </tr>\n",
       "    <tr>\n",
       "      <th>38527</th>\n",
       "      <td>54</td>\n",
       "      <td>1111</td>\n",
       "      <td>0</td>\n",
       "      <td>1</td>\n",
       "      <td>321000</td>\n",
       "      <td>2004</td>\n",
       "      <td>2</td>\n",
       "      <td>0</td>\n",
       "      <td>1</td>\n",
       "      <td>2.2</td>\n",
       "      <td>...</td>\n",
       "      <td>1</td>\n",
       "      <td>0</td>\n",
       "      <td>0</td>\n",
       "      <td>1</td>\n",
       "      <td>1</td>\n",
       "      <td>0</td>\n",
       "      <td>0</td>\n",
       "      <td>1</td>\n",
       "      <td>1</td>\n",
       "      <td>317</td>\n",
       "    </tr>\n",
       "    <tr>\n",
       "      <th>38528</th>\n",
       "      <td>54</td>\n",
       "      <td>1108</td>\n",
       "      <td>1</td>\n",
       "      <td>1</td>\n",
       "      <td>777957</td>\n",
       "      <td>2000</td>\n",
       "      <td>0</td>\n",
       "      <td>0</td>\n",
       "      <td>0</td>\n",
       "      <td>3.5</td>\n",
       "      <td>...</td>\n",
       "      <td>1</td>\n",
       "      <td>0</td>\n",
       "      <td>0</td>\n",
       "      <td>1</td>\n",
       "      <td>1</td>\n",
       "      <td>0</td>\n",
       "      <td>0</td>\n",
       "      <td>1</td>\n",
       "      <td>1</td>\n",
       "      <td>369</td>\n",
       "    </tr>\n",
       "    <tr>\n",
       "      <th>38529</th>\n",
       "      <td>54</td>\n",
       "      <td>1111</td>\n",
       "      <td>0</td>\n",
       "      <td>3</td>\n",
       "      <td>20000</td>\n",
       "      <td>2001</td>\n",
       "      <td>0</td>\n",
       "      <td>0</td>\n",
       "      <td>0</td>\n",
       "      <td>2.0</td>\n",
       "      <td>...</td>\n",
       "      <td>1</td>\n",
       "      <td>0</td>\n",
       "      <td>0</td>\n",
       "      <td>0</td>\n",
       "      <td>0</td>\n",
       "      <td>0</td>\n",
       "      <td>0</td>\n",
       "      <td>0</td>\n",
       "      <td>1</td>\n",
       "      <td>490</td>\n",
       "    </tr>\n",
       "    <tr>\n",
       "      <th>38530</th>\n",
       "      <td>54</td>\n",
       "      <td>1106</td>\n",
       "      <td>1</td>\n",
       "      <td>0</td>\n",
       "      <td>297729</td>\n",
       "      <td>2000</td>\n",
       "      <td>0</td>\n",
       "      <td>0</td>\n",
       "      <td>0</td>\n",
       "      <td>2.4</td>\n",
       "      <td>...</td>\n",
       "      <td>0</td>\n",
       "      <td>0</td>\n",
       "      <td>0</td>\n",
       "      <td>0</td>\n",
       "      <td>0</td>\n",
       "      <td>0</td>\n",
       "      <td>0</td>\n",
       "      <td>0</td>\n",
       "      <td>1</td>\n",
       "      <td>632</td>\n",
       "    </tr>\n",
       "  </tbody>\n",
       "</table>\n",
       "<p>38531 rows × 29 columns</p>\n",
       "</div>"
      ],
      "text/plain": [
       "       manufacturer_name  model_name  transmission  color  odometer_value  \\\n",
       "0                      0           0             1      0          190000   \n",
       "1                      0           0             1      1          290000   \n",
       "2                      0           1             1      2          402000   \n",
       "3                      0           2             0      1           10000   \n",
       "4                      0           3             1      3          280000   \n",
       "...                  ...         ...           ...    ...             ...   \n",
       "38526                 54        1108             1      0          290000   \n",
       "38527                 54        1111             0      1          321000   \n",
       "38528                 54        1108             1      1          777957   \n",
       "38529                 54        1111             0      3           20000   \n",
       "38530                 54        1106             1      0          297729   \n",
       "\n",
       "       year_produced  engine_fuel  engine_has_gas  engine_type  \\\n",
       "0               2010            0               0            0   \n",
       "1               2002            0               0            0   \n",
       "2               2001            0               0            0   \n",
       "3               1999            0               0            0   \n",
       "4               2001            0               0            0   \n",
       "...              ...          ...             ...          ...   \n",
       "38526           2000            0               0            0   \n",
       "38527           2004            2               0            1   \n",
       "38528           2000            0               0            0   \n",
       "38529           2001            0               0            0   \n",
       "38530           2000            0               0            0   \n",
       "\n",
       "       engine_capacity  ...  feature_1  feature_2  feature_3  feature_4  \\\n",
       "0                  2.5  ...          1          1          1          0   \n",
       "1                  3.0  ...          1          0          0          1   \n",
       "2                  2.5  ...          1          0          0          0   \n",
       "3                  3.0  ...          0          0          0          0   \n",
       "4                  2.5  ...          1          0          1          1   \n",
       "...                ...  ...        ...        ...        ...        ...   \n",
       "38526              3.5  ...          1          0          0          1   \n",
       "38527              2.2  ...          1          0          0          1   \n",
       "38528              3.5  ...          1          0          0          1   \n",
       "38529              2.0  ...          1          0          0          0   \n",
       "38530              2.4  ...          0          0          0          0   \n",
       "\n",
       "       feature_5  feature_6  feature_7  feature_8  feature_9  duration_listed  \n",
       "0              1          0          1          1          1               16  \n",
       "1              1          0          0          0          1               83  \n",
       "2              0          0          0          1          1              151  \n",
       "3              0          0          0          0          0               86  \n",
       "4              0          0          0          0          1                7  \n",
       "...          ...        ...        ...        ...        ...              ...  \n",
       "38526          1          0          0          1          1              301  \n",
       "38527          1          0          0          1          1              317  \n",
       "38528          1          0          0          1          1              369  \n",
       "38529          0          0          0          0          1              490  \n",
       "38530          0          0          0          0          1              632  \n",
       "\n",
       "[38531 rows x 29 columns]"
      ]
     },
     "execution_count": 8,
     "metadata": {},
     "output_type": "execute_result"
    }
   ],
   "source": [
    "X"
   ]
  },
  {
   "cell_type": "markdown",
   "metadata": {},
   "source": [
    "## Разделение данных"
   ]
  },
  {
   "cell_type": "code",
   "execution_count": 9,
   "metadata": {},
   "outputs": [],
   "source": [
    "from sklearn.model_selection import train_test_split"
   ]
  },
  {
   "cell_type": "code",
   "execution_count": 10,
   "metadata": {},
   "outputs": [],
   "source": [
    "X_train, X_test, y_train, y_test = train_test_split(X, y, test_size=0.2)"
   ]
  },
  {
   "cell_type": "code",
   "execution_count": 11,
   "metadata": {},
   "outputs": [
    {
     "data": {
      "text/plain": [
       "((30824, 29), (30824,), (7707, 29), (7707,))"
      ]
     },
     "execution_count": 11,
     "metadata": {},
     "output_type": "execute_result"
    }
   ],
   "source": [
    "X_train.shape, y_train.shape, X_test.shape, y_test.shape"
   ]
  },
  {
   "cell_type": "markdown",
   "metadata": {},
   "source": [
    "# Линейная регрессия"
   ]
  },
  {
   "cell_type": "code",
   "execution_count": 12,
   "metadata": {},
   "outputs": [],
   "source": [
    "from sklearn.linear_model import LinearRegression, Lasso, Ridge\n",
    "from sklearn.metrics import mean_squared_error, mean_absolute_error, mean_absolute_percentage_error\n",
    "from math import sqrt"
   ]
  },
  {
   "cell_type": "code",
   "execution_count": 13,
   "metadata": {},
   "outputs": [],
   "source": [
    "lr = LinearRegression().fit(X_train, y_train)"
   ]
  },
  {
   "cell_type": "code",
   "execution_count": 14,
   "metadata": {},
   "outputs": [
    {
     "data": {
      "text/plain": [
       "array([ 2741.95910545, -1685.79683273,   519.22252408, ...,\n",
       "        6500.05503955,  8304.17579679,  3968.26001369])"
      ]
     },
     "execution_count": 14,
     "metadata": {},
     "output_type": "execute_result"
    }
   ],
   "source": [
    "lr.predict(X_test)"
   ]
  },
  {
   "cell_type": "code",
   "execution_count": 15,
   "metadata": {},
   "outputs": [],
   "source": [
    "y_pred = lr.predict(X_test)"
   ]
  },
  {
   "cell_type": "code",
   "execution_count": 16,
   "metadata": {},
   "outputs": [
    {
     "name": "stdout",
     "output_type": "stream",
     "text": [
      "MAE: 2298.923394382889\n",
      "MSE: 12629450.236637004\n",
      "RMSE: 3553.793780825922\n",
      "MAPE: 1.753558340358722\n",
      "R^2: 0.6933557709969049\n"
     ]
    }
   ],
   "source": [
    "print(f'MAE: {mean_absolute_error(y_test, y_pred)}')\n",
    "print(f'MSE: {mean_squared_error(y_test, y_pred)}')\n",
    "print(f'RMSE: {sqrt(mean_squared_error(y_test, y_pred))}')\n",
    "print(f'MAPE: {sqrt(mean_absolute_percentage_error(y_test, y_pred))}')\n",
    "print(f'R^2: {lr.score(X_test, y_test)}')"
   ]
  },
  {
   "cell_type": "code",
   "execution_count": 17,
   "metadata": {},
   "outputs": [
    {
     "data": {
      "text/plain": [
       "array([-1.80439014e+01,  2.16495313e+00,  8.40157376e+02,  1.11511387e+02,\n",
       "       -5.39414488e-03,  3.73523317e+02,  2.82169716e+02, -6.33103311e+02,\n",
       "        7.20641250e+02,  1.69650498e+03,  1.47043040e+02,  5.86808631e+03,\n",
       "        2.56793629e+03, -9.91977883e+02, -2.02946061e+02, -1.14676098e+02,\n",
       "        7.79757789e+01,  1.95548699e-01,  6.25004550e+02, -9.03335541e+02,\n",
       "        6.26263094e+02,  7.50449776e+02,  3.03744842e+02,  2.67746507e+02,\n",
       "        1.00484148e+03,  1.30724886e+03,  3.30952839e+02,  2.15975294e+02,\n",
       "        1.73669863e+00])"
      ]
     },
     "execution_count": 17,
     "metadata": {},
     "output_type": "execute_result"
    }
   ],
   "source": [
    "len(lr.coef_)\n",
    "lr.coef_"
   ]
  },
  {
   "cell_type": "code",
   "execution_count": 18,
   "metadata": {},
   "outputs": [
    {
     "name": "stdout",
     "output_type": "stream",
     "text": [
      "MAE: 2298.951587679401\n",
      "MSE: 12629531.36474868\n",
      "RMSE: 3553.80519510407\n",
      "MAPE: 1.753957282341387\n",
      "R^2: 0.6933538011987912\n"
     ]
    },
    {
     "data": {
      "text/plain": [
       "array([-1.80111319e+01,  2.16353243e+00,  8.40164406e+02,  1.11513491e+02,\n",
       "       -5.39462261e-03,  3.73564469e+02,  2.82253937e+02, -6.32876198e+02,\n",
       "        7.20428142e+02,  1.69647605e+03,  1.47016465e+02,  5.85018395e+03,\n",
       "        2.57272159e+03, -9.91945345e+02, -2.02693433e+02, -1.14687249e+02,\n",
       "        7.79847474e+01,  1.94713357e-01,  6.25058801e+02, -9.03526700e+02,\n",
       "        6.26255130e+02,  7.50322459e+02,  3.03835149e+02,  2.67630529e+02,\n",
       "        1.00478099e+03,  1.30703761e+03,  3.30839213e+02,  2.15955887e+02,\n",
       "        1.73645988e+00])"
      ]
     },
     "execution_count": 18,
     "metadata": {},
     "output_type": "execute_result"
    }
   ],
   "source": [
    "# L1\n",
    "ridge = Ridge(alpha=0.5).fit(X_train, y_train)\n",
    "y_pred = ridge.predict(X_test)\n",
    "print(f'MAE: {mean_absolute_error(y_test, y_pred)}')\n",
    "print(f'MSE: {mean_squared_error(y_test, y_pred)}')\n",
    "print(f'RMSE: {sqrt(mean_squared_error(y_test, y_pred))}')\n",
    "print(f'MAPE: {sqrt(mean_absolute_percentage_error(y_test, y_pred))}')\n",
    "print(f'R^2: {ridge.score(X_test, y_test)}')\n",
    "ridge.coef_"
   ]
  },
  {
   "cell_type": "code",
   "execution_count": 19,
   "metadata": {},
   "outputs": [
    {
     "name": "stdout",
     "output_type": "stream",
     "text": [
      "MAE: 2298.6772245586662\n",
      "MSE: 12629237.961283892\n",
      "RMSE: 3553.763914680306\n",
      "MAPE: 1.7545113587834533\n",
      "R^2: 0.6933609250622659\n"
     ]
    },
    {
     "data": {
      "text/plain": [
       "array([-1.78195028e+01,  2.15602245e+00,  8.38915402e+02,  1.11506774e+02,\n",
       "       -5.39891280e-03,  3.73860559e+02,  2.82338395e+02, -6.18787805e+02,\n",
       "        7.18543226e+02,  1.69695920e+03,  1.46547491e+02,  5.79243466e+03,\n",
       "        2.58043342e+03, -9.90195130e+02, -1.99246062e+02, -1.14672539e+02,\n",
       "        7.80470636e+01,  1.93246249e-01,  6.18977869e+02, -9.03124603e+02,\n",
       "        6.25278693e+02,  7.49290016e+02,  3.03539361e+02,  2.65589746e+02,\n",
       "        1.00387421e+03,  1.30562240e+03,  3.28584318e+02,  2.11652845e+02,\n",
       "        1.73496170e+00])"
      ]
     },
     "execution_count": 19,
     "metadata": {},
     "output_type": "execute_result"
    }
   ],
   "source": [
    "# L2\n",
    "lasso = Lasso(alpha=0.5).fit(X_train, y_train)\n",
    "y_pred = lasso.predict(X_test)\n",
    "print(f'MAE: {mean_absolute_error(y_test, y_pred)}')\n",
    "print(f'MSE: {mean_squared_error(y_test, y_pred)}')\n",
    "print(f'RMSE: {sqrt(mean_squared_error(y_test, y_pred))}')\n",
    "print(f'MAPE: {sqrt(mean_absolute_percentage_error(y_test, y_pred))}')\n",
    "print(f'R^2: {lasso.score(X_test, y_test)}')\n",
    "lasso.coef_"
   ]
  },
  {
   "cell_type": "markdown",
   "metadata": {},
   "source": [
    "# Типа подобрал?"
   ]
  },
  {
   "cell_type": "code",
   "execution_count": 20,
   "metadata": {},
   "outputs": [],
   "source": [
    "from sklearn.model_selection import GridSearchCV, RandomizedSearchCV\n",
    "import numpy as np"
   ]
  },
  {
   "cell_type": "code",
   "execution_count": 21,
   "metadata": {},
   "outputs": [],
   "source": [
    "parameters = {'alpha': np.arange(0, 1, 0.1)}"
   ]
  },
  {
   "cell_type": "code",
   "execution_count": 22,
   "metadata": {},
   "outputs": [
    {
     "data": {
      "text/plain": [
       "{'alpha': 0.9}"
      ]
     },
     "execution_count": 22,
     "metadata": {},
     "output_type": "execute_result"
    }
   ],
   "source": [
    "ridge_optimal = RandomizedSearchCV(Ridge(), parameters).fit(X_train, y_train)\n",
    "# выводим оптимальные значения параметров\n",
    "#GridSearchCV\n",
    "ridge_optimal.best_params_"
   ]
  },
  {
   "cell_type": "code",
   "execution_count": null,
   "metadata": {},
   "outputs": [],
   "source": []
  },
  {
   "cell_type": "code",
   "execution_count": 23,
   "metadata": {},
   "outputs": [
    {
     "name": "stdout",
     "output_type": "stream",
     "text": [
      "MAE: 2298.9739377659616\n",
      "MSE: 12629597.513173532\n",
      "RMSE: 3553.814501795716\n",
      "MAPE: 1.7542736258303826\n",
      "R^2: 0.6933521951088697\n"
     ]
    },
    {
     "data": {
      "text/plain": [
       "array([-1.79850416e+01,  2.16240144e+00,  8.40169880e+02,  1.11515168e+02,\n",
       "       -5.39500350e-03,  3.73597234e+02,  2.82321471e+02, -6.32694751e+02,\n",
       "        7.20257404e+02,  1.69645278e+03,  1.46995280e+02,  5.83596119e+03,\n",
       "        2.57651562e+03, -9.91919227e+02, -2.02492272e+02, -1.14696144e+02,\n",
       "        7.79918829e+01,  1.94050843e-01,  6.25102143e+02, -9.03678457e+02,\n",
       "        6.26248767e+02,  7.50221001e+02,  3.03907324e+02,  2.67538223e+02,\n",
       "        1.00473262e+03,  1.30686887e+03,  3.30748742e+02,  2.15940293e+02,\n",
       "        1.73626986e+00])"
      ]
     },
     "execution_count": 23,
     "metadata": {},
     "output_type": "execute_result"
    }
   ],
   "source": [
    "# L1\n",
    "ridge = Ridge(alpha=0.9).fit(X_train, y_train)\n",
    "y_pred = ridge.predict(X_test)\n",
    "print(f'MAE: {mean_absolute_error(y_test, y_pred)}')\n",
    "print(f'MSE: {mean_squared_error(y_test, y_pred)}')\n",
    "print(f'RMSE: {sqrt(mean_squared_error(y_test, y_pred))}')\n",
    "print(f'MAPE: {sqrt(mean_absolute_percentage_error(y_test, y_pred))}')\n",
    "print(f'R^2: {ridge.score(X_test, y_test)}')\n",
    "ridge.coef_"
   ]
  },
  {
   "cell_type": "code",
   "execution_count": 24,
   "metadata": {},
   "outputs": [
    {
     "name": "stdout",
     "output_type": "stream",
     "text": [
      "MAE: 2298.4827042344277\n",
      "MSE: 12629147.246343426\n",
      "RMSE: 3553.7511514375096\n",
      "MAPE: 1.755273474146068\n",
      "R^2: 0.6933631276294764\n"
     ]
    },
    {
     "data": {
      "text/plain": [
       "array([-1.76399838e+01,  2.14887790e+00,  8.37921824e+02,  1.11503083e+02,\n",
       "       -5.40272715e-03,  3.74130353e+02,  2.82473324e+02, -6.07335384e+02,\n",
       "        7.16864836e+02,  1.69732257e+03,  1.46151051e+02,  5.73191335e+03,\n",
       "        2.59043112e+03, -9.88768927e+02, -1.96286064e+02, -1.14669691e+02,\n",
       "        7.81040913e+01,  1.91404289e-01,  6.14156525e+02, -9.02955853e+02,\n",
       "        6.24491173e+02,  7.48362209e+02,  3.03374977e+02,  2.63864336e+02,\n",
       "        1.00310039e+03,  1.30432124e+03,  3.26689502e+02,  2.08194886e+02,\n",
       "        1.73357216e+00])"
      ]
     },
     "execution_count": 24,
     "metadata": {},
     "output_type": "execute_result"
    }
   ],
   "source": [
    "# L2\n",
    "lasso = Lasso(alpha=0.9).fit(X_train, y_train)\n",
    "y_pred = lasso.predict(X_test)\n",
    "print(f'MAE: {mean_absolute_error(y_test, y_pred)}')\n",
    "print(f'MSE: {mean_squared_error(y_test, y_pred)}')\n",
    "print(f'RMSE: {sqrt(mean_squared_error(y_test, y_pred))}')\n",
    "print(f'MAPE: {sqrt(mean_absolute_percentage_error(y_test, y_pred))}')\n",
    "print(f'R^2: {lasso.score(X_test, y_test)}')\n",
    "lasso.coef_"
   ]
  },
  {
   "cell_type": "markdown",
   "metadata": {},
   "source": [
    "# Полиномы"
   ]
  },
  {
   "cell_type": "code",
   "execution_count": 25,
   "metadata": {},
   "outputs": [],
   "source": [
    "yy = data[\"price_usd\"]\n",
    "XX = data.drop([\"price_usd\"], axis=1)"
   ]
  },
  {
   "cell_type": "code",
   "execution_count": 26,
   "metadata": {},
   "outputs": [
    {
     "data": {
      "text/plain": [
       "array([-1.81220468e+01,  2.18858726e+00,  8.35720469e+02,  1.09494063e+02,\n",
       "       -5.47687928e-03,  3.68676615e+02,  2.56272528e+02, -6.13347402e+02,\n",
       "        7.61107216e+02,  1.69254034e+03,  1.45185053e+02,  6.04636359e+03,\n",
       "        2.37403743e+03, -9.73205705e+02, -1.97772307e+02, -1.12778004e+02,\n",
       "        8.41602979e+01, -3.61912858e-01,  5.92447383e+02, -9.19761533e+02,\n",
       "        5.91326303e+02,  7.41186828e+02,  3.09695279e+02,  2.60535493e+02,\n",
       "        1.06118213e+03,  1.33028038e+03,  3.21568285e+02,  2.26687831e+02,\n",
       "        1.86936657e+00])"
      ]
     },
     "execution_count": 26,
     "metadata": {},
     "output_type": "execute_result"
    }
   ],
   "source": [
    "lr = LinearRegression().fit(XX, yy)\n",
    "lr.coef_"
   ]
  },
  {
   "cell_type": "code",
   "execution_count": 27,
   "metadata": {},
   "outputs": [],
   "source": [
    "from sklearn.preprocessing import PolynomialFeatures"
   ]
  },
  {
   "cell_type": "code",
   "execution_count": 28,
   "metadata": {},
   "outputs": [
    {
     "data": {
      "text/plain": [
       "array([[1.00000e+00, 0.00000e+00, 0.00000e+00, ..., 1.00000e+00,\n",
       "        1.60000e+01, 2.56000e+02],\n",
       "       [1.00000e+00, 0.00000e+00, 0.00000e+00, ..., 1.00000e+00,\n",
       "        8.30000e+01, 6.88900e+03],\n",
       "       [1.00000e+00, 0.00000e+00, 1.00000e+00, ..., 1.00000e+00,\n",
       "        1.51000e+02, 2.28010e+04],\n",
       "       ...,\n",
       "       [1.00000e+00, 5.40000e+01, 1.10800e+03, ..., 1.00000e+00,\n",
       "        3.69000e+02, 1.36161e+05],\n",
       "       [1.00000e+00, 5.40000e+01, 1.11100e+03, ..., 1.00000e+00,\n",
       "        4.90000e+02, 2.40100e+05],\n",
       "       [1.00000e+00, 5.40000e+01, 1.10600e+03, ..., 1.00000e+00,\n",
       "        6.32000e+02, 3.99424e+05]])"
      ]
     },
     "execution_count": 28,
     "metadata": {},
     "output_type": "execute_result"
    }
   ],
   "source": [
    "# создаем объект, который позволит расширить множество предикторов\n",
    "pf = PolynomialFeatures(2)  \n",
    "# добавляем новые предикторы\n",
    "X_p=pf.fit_transform(XX) \n",
    "X_p"
   ]
  },
  {
   "cell_type": "code",
   "execution_count": 29,
   "metadata": {},
   "outputs": [
    {
     "data": {
      "text/plain": [
       "array([ 6.64999190e+04,  2.53095255e+03, -1.76076375e+02, -1.79981231e+05,\n",
       "       -1.67850552e+03,  6.58134448e-01, -4.95094027e+04, -1.24009176e+05,\n",
       "        5.41906536e+04, -9.49915680e+04, -3.18186231e+05, -5.86332263e+03,\n",
       "       -4.49046000e+05,  3.61708803e+05,  7.59940173e+04, -2.34112174e+03,\n",
       "        6.26418785e+03, -5.19027209e+03, -1.13089909e+02, -6.27170234e+04,\n",
       "        2.41940899e+04, -8.04777220e+04, -6.24877508e+04, -2.38027214e+04,\n",
       "       -1.62278253e+04, -1.61680031e+05, -2.97792674e+04, -9.10216454e+04,\n",
       "        5.17733289e+04, -2.21016352e+02,  3.22622689e+00, -7.32963581e-02,\n",
       "        3.51035650e+00,  8.66251629e-01, -2.34493637e-05, -1.40207208e+00,\n",
       "       -2.60875850e+02,  2.60624003e+02,  5.72155161e+02,  3.90732727e+01,\n",
       "       -1.94821076e+00, -7.96352861e+01, -4.09653753e+01, -2.96854935e+00,\n",
       "       -4.51454135e+00, -9.14809177e-01,  3.74109919e-01,  1.67599085e-01,\n",
       "       -1.54779261e+01,  3.27044356e+00,  1.51435719e-01,  2.10740889e+00,\n",
       "       -6.02145078e+00, -2.10282092e+00, -2.17476482e+00, -6.54115508e+00,\n",
       "       -2.33217924e+00,  8.60812137e+00,  1.09976448e-03, -7.49506813e-03,\n",
       "        1.65199546e-01,  2.65281932e-02, -3.63828804e-07,  9.65201731e-02,\n",
       "        1.20110127e+01, -1.18569930e+01, -2.57088064e+01, -2.21476589e+00,\n",
       "        6.40705246e-02,  4.93588711e+00,  4.94067090e+00,  7.17353474e-01,\n",
       "        5.31348403e-02,  1.45348799e-02,  2.52130064e-04, -6.69889174e-03,\n",
       "        1.08009546e+00, -4.54159764e-01,  1.17731125e-01,  3.61224075e-01,\n",
       "        4.72513032e-01,  4.13800063e-02,  6.24380410e-01,  5.72384799e-01,\n",
       "        1.95719005e-02, -5.35059065e-01,  2.33345039e-04, -1.91306638e+05,\n",
       "        5.06288114e+01,  1.33739988e-04,  1.85125131e+02,  2.32117205e+02,\n",
       "        5.97575205e+01, -7.17240929e+02,  2.15145099e+02, -4.53390211e+01,\n",
       "       -2.29920824e+03,  8.45074350e+02,  2.64507418e+02,  3.54095224e+01,\n",
       "        2.82759191e+01, -4.18313478e+00,  3.82461146e-01,  1.31741718e+02,\n",
       "       -6.06493988e+02,  8.15178407e+01,  1.62598336e+02,  3.57368484e+02,\n",
       "       -1.87614502e+02, -1.36099454e+02, -2.19297884e+02, -5.42325784e+02,\n",
       "        1.62933287e+02,  6.01775103e-01, -3.39044170e+00, -1.10340421e-04,\n",
       "        8.06807214e-01, -3.81961231e+01,  4.22691665e+01,  1.25949098e+02,\n",
       "        2.57040239e+01, -8.64481505e-01, -1.38218943e+01, -9.05668273e+01,\n",
       "       -9.96167584e+00,  1.60791053e+01, -3.17301298e+00,  2.45245622e+00,\n",
       "        7.70851731e-03,  1.72010003e+01, -1.31688624e+01,  3.44244235e+01,\n",
       "       -1.08082164e+01,  1.54386097e+00,  7.68346969e+00, -3.07306181e+01,\n",
       "        2.73758215e+01, -2.70623435e+01,  2.01194056e+00,  5.89663807e-02,\n",
       "       -4.34283720e-10, -3.27334536e-04,  6.83203769e-04,  1.97375527e-03,\n",
       "       -8.23944902e-06, -2.27838098e-03,  9.32656112e-05,  1.17631653e-02,\n",
       "        1.42597650e-03,  1.24537188e-03,  2.93238409e-04,  2.99874111e-04,\n",
       "       -1.40285847e-04, -4.36739356e-07, -1.19602114e-03,  1.29350201e-03,\n",
       "       -1.62357380e-03, -3.49806836e-04, -1.11977479e-03,  5.36761610e-04,\n",
       "        1.41974408e-03, -2.63650960e-03,  1.27794759e-03, -8.10088385e-04,\n",
       "       -2.93497578e-06,  1.23811600e+01,  5.41119623e+01, -7.67427456e+01,\n",
       "        6.21297400e+01,  1.60380185e+02,  2.79690586e+00,  4.45957560e+02,\n",
       "       -1.85769051e+02, -3.95076845e+01,  2.32005397e+00, -3.07645979e+00,\n",
       "        2.58063752e+00,  5.64599439e-02,  6.28831613e+01, -2.40861951e+01,\n",
       "        8.11325195e+01,  6.24652031e+01,  2.37708614e+01,  1.62648531e+01,\n",
       "        1.60412716e+02,  2.99332227e+01,  9.07268552e+01, -5.17022647e+01,\n",
       "        1.09657803e-01,  5.88509553e+03,  5.41483554e+04, -1.89060041e+04,\n",
       "       -6.33835131e+01,  8.65698691e+01, -3.80404938e+02,  3.15053237e+03,\n",
       "       -2.96260117e+02, -5.99136316e+01, -3.86486678e+00, -8.98645538e+00,\n",
       "       -2.81528852e+00, -1.68384312e+02,  1.92735606e+02, -2.42393630e+02,\n",
       "       -1.55861895e+02,  1.02673748e+02,  6.65012055e+01, -8.43432134e+01,\n",
       "       -1.00139245e+02, -1.77428181e+02,  2.21157956e+02, -2.73366704e-01,\n",
       "        5.41483554e+04, -3.35707637e-06, -6.30094790e+01,  1.28265494e+00,\n",
       "        4.43301360e-07, -3.85210088e+03,  4.05733995e+01,  8.48506182e+01,\n",
       "        3.20026709e+01,  2.41112312e+01,  9.05676955e-01,  1.63350801e+02,\n",
       "       -1.23903354e+01,  5.13623562e+02,  3.89728409e+02,  2.01255180e+02,\n",
       "       -1.95594398e+02,  3.85705858e+02, -1.11817498e+01,  1.47311142e+02,\n",
       "       -4.43582666e+02,  4.01335919e-01,  1.30033700e+04,  1.74298770e+03,\n",
       "        2.72336492e+01, -1.90202460e+02, -6.94675527e+03,  1.73861030e+02,\n",
       "        1.46612036e+02,  3.92945688e+01,  2.13477776e+01,  6.07150761e+00,\n",
       "        3.73090213e+02, -9.69058509e+02,  5.61799458e+02,  2.26988858e+02,\n",
       "       -1.49886169e+02, -5.31143416e+01,  2.33936392e+02,  4.96087736e+02,\n",
       "       -1.20546014e+01, -3.80326989e+02,  1.32129190e+00, -2.18490067e+02,\n",
       "       -2.35788649e+01,  2.04239787e+03, -1.00611217e+03,  3.35847394e+01,\n",
       "       -1.47367594e+02, -9.66671685e+01,  2.64443512e+01, -1.23657785e+00,\n",
       "       -1.54023256e+02, -1.59135171e+02, -5.51167766e+02, -1.95307914e+02,\n",
       "        7.94413909e+01, -1.21310374e+02,  3.43529185e+02,  3.45652478e+02,\n",
       "        1.25700541e+02, -8.49296953e+01,  1.40264809e+00,  3.34021382e+01,\n",
       "        2.85734676e+02, -1.76919849e+02,  1.03115902e+02,  6.03060935e+00,\n",
       "       -3.30997982e+00,  5.77486633e+00,  6.55526820e-01, -5.62728414e+01,\n",
       "        2.49270317e+01, -1.78700106e+01,  3.27418444e+01, -1.17506490e+01,\n",
       "       -2.20226678e+01,  2.66324227e+01, -1.62465010e+00,  2.52995104e+01,\n",
       "       -9.62554684e+00, -9.24435129e-02, -4.49058097e+05, -1.43959290e+03,\n",
       "       -2.30260076e+03,  2.17645065e+03, -3.20921946e+02,  2.10599726e+02,\n",
       "       -7.07765190e+00, -9.26687776e+03, -1.55513962e+03, -2.09743510e+03,\n",
       "        3.26661588e+02,  7.20350564e+02, -3.55640092e+03, -2.17739254e+03,\n",
       "       -8.80003686e+02,  1.65103368e+03, -1.93105743e+02, -2.96838019e+00,\n",
       "        9.37135480e+03, -1.34210503e+03, -2.71814932e+02, -2.00460291e+02,\n",
       "        1.12317976e+02,  1.48704782e+00,  3.87366989e+02,  8.35841446e+01,\n",
       "       -2.38941068e+02, -1.68776877e+03,  1.14867626e+03,  4.03481814e+01,\n",
       "       -4.94978454e+02, -1.47609705e+03, -5.90547777e+02,  1.10358068e+03,\n",
       "        1.69975055e-01,  8.41920575e+02, -2.59969880e+01,  2.89537553e+01,\n",
       "       -2.35319960e+00, -2.38011017e+00, -1.64927047e+02,  2.48301787e+02,\n",
       "        5.20959181e+01, -1.75292604e+01, -3.86850572e+00, -1.60803183e+01,\n",
       "       -1.28306261e+02, -3.08705289e+02,  2.80056194e+02, -3.13403977e+01,\n",
       "        8.45550191e-01, -2.34088436e+03, -1.00552565e+01,  1.66468179e+01,\n",
       "       -5.34308083e-01,  1.63778020e+02,  1.54544694e+01,  2.52777041e+02,\n",
       "       -8.39147478e+01,  9.07410551e-01, -2.23599145e+01,  4.30362380e+02,\n",
       "       -6.08373580e+01,  5.89433836e+01, -5.98820129e+01, -2.42493136e-01,\n",
       "       -7.86261305e-01, -2.64119929e+00, -2.77252669e-01, -2.22936224e+01,\n",
       "        2.59437951e+01, -5.82030313e+01,  2.19509588e+01, -1.76729722e+01,\n",
       "       -4.69115134e+00,  7.65268018e+00, -5.17270867e+01,  1.94536352e+01,\n",
       "       -3.11801491e+00,  3.65343083e-02,  1.69404238e-01,  8.77992826e-02,\n",
       "        1.25902300e+01, -9.05369969e+00,  5.90233701e-01,  1.36670533e+00,\n",
       "        1.60128816e+01, -6.64463172e+00, -4.21571718e+00,  1.02924665e+01,\n",
       "       -2.44620704e+01,  9.90479309e+00, -1.50961599e-02, -1.66675900e-03,\n",
       "        8.08647223e-01, -1.58703804e+00,  1.21603104e+00,  6.71468580e-01,\n",
       "        7.31214394e-01, -1.46584309e+00,  2.35636490e-01, -1.63238262e+00,\n",
       "        1.49488100e+00,  7.94411802e-01,  2.43580275e-03, -6.27254824e+04,\n",
       "        7.21629476e-08, -8.23310984e-08,  3.32947820e-08,  2.21043592e-08,\n",
       "       -8.74933903e-08,  1.60071068e-08, -4.19095159e-09, -1.24709914e-08,\n",
       "       -4.51109372e-10,  5.01244433e-01,  2.41839716e+04,  1.40353026e+02,\n",
       "        3.99235792e+01, -9.45534880e+01,  2.29153163e+02,  4.38175738e+02,\n",
       "       -1.94997610e+02,  1.54214281e+02,  2.71117633e+02, -2.21087100e-01,\n",
       "       -8.04085873e+04,  6.74584124e+01,  3.81520032e+02, -1.11431088e+02,\n",
       "       -2.16763005e+02,  3.62733894e+00, -4.07810079e+02,  1.56064252e+00,\n",
       "       -3.70666110e-01, -6.23910629e+04,  1.29576725e+02, -2.37435927e+02,\n",
       "        6.22548773e+01,  1.60375851e+01, -1.08384249e+02, -8.93505232e+00,\n",
       "       -3.72617977e-01, -2.38098486e+04, -3.98797620e+01,  4.43905188e+02,\n",
       "       -2.08169691e+01, -1.14584971e+02, -1.63255476e+02, -3.33713129e-01,\n",
       "       -1.62421371e+04,  2.26856960e+01, -2.48497993e+01,  4.29320472e+01,\n",
       "        3.35875622e+02, -6.23499182e-01, -1.61739520e+05, -4.50978388e+02,\n",
       "       -1.78259522e+02,  1.07830271e+02,  9.60625327e-01, -2.97239907e+04,\n",
       "       -1.35665031e+02,  1.85451686e+02, -1.53820179e-01, -9.10494151e+04,\n",
       "        4.11567980e+02, -2.38120561e-01,  5.17622577e+04,  4.53982511e-01,\n",
       "       -8.50122175e-04])"
      ]
     },
     "execution_count": 29,
     "metadata": {},
     "output_type": "execute_result"
    }
   ],
   "source": [
    "lr2 = LinearRegression().fit(X_p, yy)\n",
    "lr2.coef_"
   ]
  },
  {
   "cell_type": "code",
   "execution_count": null,
   "metadata": {},
   "outputs": [],
   "source": []
  },
  {
   "cell_type": "code",
   "execution_count": 30,
   "metadata": {},
   "outputs": [],
   "source": [
    "power = 2"
   ]
  },
  {
   "cell_type": "code",
   "execution_count": 31,
   "metadata": {},
   "outputs": [
    {
     "name": "stdout",
     "output_type": "stream",
     "text": [
      "MAE: 2298.4827042344277\n",
      "RMSE: 12629147.246343426\n",
      "MSE: 3553.7511514375096\n",
      "MAPE: 1.3276423770941557\n",
      "R^2: 0.8574368006093522\n"
     ]
    }
   ],
   "source": [
    "polynomial_regression_classic = LinearRegression().fit(PolynomialFeatures(power).fit_transform(X_train), y_train)\n",
    "y_predicted = polynomial_regression_classic.predict(PolynomialFeatures(power).fit_transform(X_test))\n",
    "print(f\"MAE: {mean_absolute_error(y_pred, y_test)}\",\n",
    "      f'RMSE: {mean_squared_error(y_pred, y_test)}',\n",
    "      f'MSE: {mean_squared_error(y_pred, y_test)**0.5}',\n",
    "      f'MAPE: {mean_absolute_percentage_error(y_pred, y_test)}',\n",
    "      f'R^2: {polynomial_regression_classic.score(PolynomialFeatures(power).fit_transform(X_test), y_test)}',\n",
    "      sep='\\n')"
   ]
  },
  {
   "cell_type": "code",
   "execution_count": null,
   "metadata": {},
   "outputs": [],
   "source": []
  },
  {
   "cell_type": "code",
   "execution_count": null,
   "metadata": {},
   "outputs": [],
   "source": []
  }
 ],
 "metadata": {
  "kernelspec": {
   "display_name": "Python 3 (ipykernel)",
   "language": "python",
   "name": "python3"
  },
  "language_info": {
   "codemirror_mode": {
    "name": "ipython",
    "version": 3
   },
   "file_extension": ".py",
   "mimetype": "text/x-python",
   "name": "python",
   "nbconvert_exporter": "python",
   "pygments_lexer": "ipython3",
   "version": "3.10.4"
  },
  "vscode": {
   "interpreter": {
    "hash": "4144813e17b6f5f448ed6aaed98153edd3ff37cd658fee1dbd1b201beaf41009"
   }
  }
 },
 "nbformat": 4,
 "nbformat_minor": 2
}
