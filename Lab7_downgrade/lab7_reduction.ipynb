{
 "cells": [
  {
   "cell_type": "code",
   "execution_count": 127,
   "metadata": {},
   "outputs": [],
   "source": [
    "import numpy as np\n",
    "import matplotlib.pyplot as plt\n",
    "from sklearn.datasets import load_iris\n",
    "from sklearn.ensemble import BaggingClassifier\n",
    "from sklearn.ensemble import BaggingRegressor\n",
    "from sklearn.model_selection import train_test_split\n",
    "from sklearn.metrics import classification_report\n",
    "import pandas as pd\n",
    "from sklearn.preprocessing import StandardScaler"
   ]
  },
  {
   "cell_type": "code",
   "execution_count": 128,
   "metadata": {},
   "outputs": [],
   "source": [
    "def test(X, y):\n",
    "  X_train, X_test, y_train, y_test = train_test_split(X, y, test_size=0.3)\n",
    "  bag = BaggingRegressor().fit(X_train, y_train)\n",
    "  print(f'R^2: {bag.score(X_test, y_test)}')"
   ]
  },
  {
   "cell_type": "code",
   "execution_count": 129,
   "metadata": {},
   "outputs": [],
   "source": [
    "scaler = StandardScaler()"
   ]
  },
  {
   "cell_type": "code",
   "execution_count": 130,
   "metadata": {},
   "outputs": [],
   "source": [
    "import os\n",
    "import sys"
   ]
  },
  {
   "cell_type": "code",
   "execution_count": 131,
   "metadata": {},
   "outputs": [],
   "source": [
    "sys.path.insert(1, os.path.join(sys.path[0], \"../notebooks\"))"
   ]
  },
  {
   "cell_type": "code",
   "execution_count": 132,
   "metadata": {},
   "outputs": [],
   "source": [
    "from RidgeRG import RidgeGD"
   ]
  },
  {
   "cell_type": "code",
   "execution_count": 133,
   "metadata": {},
   "outputs": [],
   "source": [
    "df = pd.read_csv( \"../Data/sclaer_dataset_regression.csv\" )\n",
    "df.drop(['Unnamed: 0'], axis=1, inplace=True)\n",
    "Y = df[\"price_usd\"]\n",
    "X = df.drop([\"price_usd\"], axis=1)  \n",
    "\n",
    "X_train, X_test, Y_train, Y_test = train_test_split( X, Y, \n",
    "                                            \n",
    "                                       test_size = 1 / 3, random_state = 0 )\n",
    "\n",
    "ridge_gd = RidgeGD(alpha = 0.9)\n",
    " \n",
    "ridge_gd.fit(X_train, Y_train, iter = 500, learning_rate = 0.01)\n",
    "weights= ridge_gd.thetas"
   ]
  },
  {
   "cell_type": "code",
   "execution_count": 134,
   "metadata": {},
   "outputs": [
    {
     "data": {
      "text/plain": [
       "array([ 0.018729  ,  0.01539691,  0.0112699 ,  0.042037  ,  0.01238788,\n",
       "       -0.01869137,  0.04196469,  0.00979443, -0.00448199,  0.0129254 ,\n",
       "        0.00891765,  0.00711654,  0.01971875,  0.01973978, -0.02055972,\n",
       "        0.00169424, -0.01612794,  0.01024276,  0.00052155,  0.01182539,\n",
       "        0.00877254,  0.01099292,  0.03090608,  0.00909478,  0.0248558 ,\n",
       "        0.02820269,  0.03782404,  0.02706093,  0.0038221 ,  0.0006772 ])"
      ]
     },
     "execution_count": 134,
     "metadata": {},
     "output_type": "execute_result"
    }
   ],
   "source": [
    "weights"
   ]
  },
  {
   "cell_type": "code",
   "execution_count": 135,
   "metadata": {},
   "outputs": [],
   "source": [
    "columns = list(X.columns)"
   ]
  },
  {
   "cell_type": "code",
   "execution_count": 136,
   "metadata": {},
   "outputs": [],
   "source": [
    "wei_dict = dict(zip(columns, list(weights)))"
   ]
  },
  {
   "cell_type": "code",
   "execution_count": 137,
   "metadata": {},
   "outputs": [
    {
     "data": {
      "text/plain": [
       "{'manufacturer_name': 0.018728995272412098,\n",
       " 'model_name': 0.015396907249876794,\n",
       " 'transmission': 0.011269897819306065,\n",
       " 'color': 0.04203700231457132,\n",
       " 'odometer_value': 0.012387884577815771,\n",
       " 'year_produced': -0.01869136647379966,\n",
       " 'engine_fuel': 0.04196469445182318,\n",
       " 'engine_has_gas': 0.009794429773853187,\n",
       " 'engine_type': -0.0044819907836866,\n",
       " 'engine_capacity': 0.012925397392551108,\n",
       " 'body_type': 0.008917648326740812,\n",
       " 'has_warranty': 0.00711653564303238,\n",
       " 'state': 0.019718750626572933,\n",
       " 'drivetrain': 0.019739783780191908,\n",
       " 'is_exchangeable': -0.02055972200455686,\n",
       " 'location_region': 0.0016942387443383109,\n",
       " 'number_of_photos': -0.016127942186444776,\n",
       " 'up_counter': 0.01024276317020114,\n",
       " 'feature_0': 0.0005215543125785876,\n",
       " 'feature_1': 0.011825386200859852,\n",
       " 'feature_2': 0.008772537335734801,\n",
       " 'feature_3': 0.01099292430479311,\n",
       " 'feature_4': 0.030906082501694496,\n",
       " 'feature_5': 0.009094781913419656,\n",
       " 'feature_6': 0.02485580209583757,\n",
       " 'feature_7': 0.0282026882431162,\n",
       " 'feature_8': 0.03782403628071013,\n",
       " 'feature_9': 0.02706093131604346,\n",
       " 'duration_listed': 0.003822101031749987}"
      ]
     },
     "execution_count": 137,
     "metadata": {},
     "output_type": "execute_result"
    }
   ],
   "source": [
    "wei_dict"
   ]
  },
  {
   "cell_type": "code",
   "execution_count": 150,
   "metadata": {},
   "outputs": [
    {
     "data": {
      "text/plain": [
       "{'manufacturer_name': 0.018728995272412098,\n",
       " 'model_name': 0.015396907249876794,\n",
       " 'odometer_value': 0.012387884577815771,\n",
       " 'year_produced': -0.01869136647379966,\n",
       " 'engine_type': -0.0044819907836866,\n",
       " 'engine_capacity': 0.012925397392551108,\n",
       " 'state': 0.019718750626572933,\n",
       " 'drivetrain': 0.019739783780191908,\n",
       " 'number_of_photos': -0.016127942186444776}"
      ]
     },
     "execution_count": 150,
     "metadata": {},
     "output_type": "execute_result"
    }
   ],
   "source": [
    "res = {k: v for k,v in wei_dict.items() if (0.02 > v > 0.012) or (-0.019 < v < 0)}\n",
    "res"
   ]
  },
  {
   "cell_type": "code",
   "execution_count": 139,
   "metadata": {},
   "outputs": [],
   "source": [
    "import matplotlib.pyplot as plt\n",
    "from sklearn.tree import DecisionTreeRegressor "
   ]
  },
  {
   "cell_type": "code",
   "execution_count": 140,
   "metadata": {},
   "outputs": [
    {
     "data": {
      "text/html": [
       "<style>#sk-container-id-5 {color: black;background-color: white;}#sk-container-id-5 pre{padding: 0;}#sk-container-id-5 div.sk-toggleable {background-color: white;}#sk-container-id-5 label.sk-toggleable__label {cursor: pointer;display: block;width: 100%;margin-bottom: 0;padding: 0.3em;box-sizing: border-box;text-align: center;}#sk-container-id-5 label.sk-toggleable__label-arrow:before {content: \"▸\";float: left;margin-right: 0.25em;color: #696969;}#sk-container-id-5 label.sk-toggleable__label-arrow:hover:before {color: black;}#sk-container-id-5 div.sk-estimator:hover label.sk-toggleable__label-arrow:before {color: black;}#sk-container-id-5 div.sk-toggleable__content {max-height: 0;max-width: 0;overflow: hidden;text-align: left;background-color: #f0f8ff;}#sk-container-id-5 div.sk-toggleable__content pre {margin: 0.2em;color: black;border-radius: 0.25em;background-color: #f0f8ff;}#sk-container-id-5 input.sk-toggleable__control:checked~div.sk-toggleable__content {max-height: 200px;max-width: 100%;overflow: auto;}#sk-container-id-5 input.sk-toggleable__control:checked~label.sk-toggleable__label-arrow:before {content: \"▾\";}#sk-container-id-5 div.sk-estimator input.sk-toggleable__control:checked~label.sk-toggleable__label {background-color: #d4ebff;}#sk-container-id-5 div.sk-label input.sk-toggleable__control:checked~label.sk-toggleable__label {background-color: #d4ebff;}#sk-container-id-5 input.sk-hidden--visually {border: 0;clip: rect(1px 1px 1px 1px);clip: rect(1px, 1px, 1px, 1px);height: 1px;margin: -1px;overflow: hidden;padding: 0;position: absolute;width: 1px;}#sk-container-id-5 div.sk-estimator {font-family: monospace;background-color: #f0f8ff;border: 1px dotted black;border-radius: 0.25em;box-sizing: border-box;margin-bottom: 0.5em;}#sk-container-id-5 div.sk-estimator:hover {background-color: #d4ebff;}#sk-container-id-5 div.sk-parallel-item::after {content: \"\";width: 100%;border-bottom: 1px solid gray;flex-grow: 1;}#sk-container-id-5 div.sk-label:hover label.sk-toggleable__label {background-color: #d4ebff;}#sk-container-id-5 div.sk-serial::before {content: \"\";position: absolute;border-left: 1px solid gray;box-sizing: border-box;top: 0;bottom: 0;left: 50%;z-index: 0;}#sk-container-id-5 div.sk-serial {display: flex;flex-direction: column;align-items: center;background-color: white;padding-right: 0.2em;padding-left: 0.2em;position: relative;}#sk-container-id-5 div.sk-item {position: relative;z-index: 1;}#sk-container-id-5 div.sk-parallel {display: flex;align-items: stretch;justify-content: center;background-color: white;position: relative;}#sk-container-id-5 div.sk-item::before, #sk-container-id-5 div.sk-parallel-item::before {content: \"\";position: absolute;border-left: 1px solid gray;box-sizing: border-box;top: 0;bottom: 0;left: 50%;z-index: -1;}#sk-container-id-5 div.sk-parallel-item {display: flex;flex-direction: column;z-index: 1;position: relative;background-color: white;}#sk-container-id-5 div.sk-parallel-item:first-child::after {align-self: flex-end;width: 50%;}#sk-container-id-5 div.sk-parallel-item:last-child::after {align-self: flex-start;width: 50%;}#sk-container-id-5 div.sk-parallel-item:only-child::after {width: 0;}#sk-container-id-5 div.sk-dashed-wrapped {border: 1px dashed gray;margin: 0 0.4em 0.5em 0.4em;box-sizing: border-box;padding-bottom: 0.4em;background-color: white;}#sk-container-id-5 div.sk-label label {font-family: monospace;font-weight: bold;display: inline-block;line-height: 1.2em;}#sk-container-id-5 div.sk-label-container {text-align: center;}#sk-container-id-5 div.sk-container {/* jupyter's `normalize.less` sets `[hidden] { display: none; }` but bootstrap.min.css set `[hidden] { display: none !important; }` so we also need the `!important` here to be able to override the default hidden behavior on the sphinx rendered scikit-learn.org. See: https://github.com/scikit-learn/scikit-learn/issues/21755 */display: inline-block !important;position: relative;}#sk-container-id-5 div.sk-text-repr-fallback {display: none;}</style><div id=\"sk-container-id-5\" class=\"sk-top-container\"><div class=\"sk-text-repr-fallback\"><pre>DecisionTreeRegressor(max_depth=6)</pre><b>In a Jupyter environment, please rerun this cell to show the HTML representation or trust the notebook. <br />On GitHub, the HTML representation is unable to render, please try loading this page with nbviewer.org.</b></div><div class=\"sk-container\" hidden><div class=\"sk-item\"><div class=\"sk-estimator sk-toggleable\"><input class=\"sk-toggleable__control sk-hidden--visually\" id=\"sk-estimator-id-5\" type=\"checkbox\" checked><label for=\"sk-estimator-id-5\" class=\"sk-toggleable__label sk-toggleable__label-arrow\">DecisionTreeRegressor</label><div class=\"sk-toggleable__content\"><pre>DecisionTreeRegressor(max_depth=6)</pre></div></div></div></div></div>"
      ],
      "text/plain": [
       "DecisionTreeRegressor(max_depth=6)"
      ]
     },
     "execution_count": 140,
     "metadata": {},
     "output_type": "execute_result"
    }
   ],
   "source": [
    "reg = DecisionTreeRegressor(max_depth=6)\n",
    "reg.fit(X_train, Y_train)"
   ]
  },
  {
   "cell_type": "code",
   "execution_count": 141,
   "metadata": {},
   "outputs": [
    {
     "data": {
      "text/plain": [
       "<BarContainer object of 29 artists>"
      ]
     },
     "execution_count": 141,
     "metadata": {},
     "output_type": "execute_result"
    },
    {
     "data": {
      "image/png": "[encoded data removed]",
      "text/plain": [
       "<Figure size 640x480 with 1 Axes>"
      ]
     },
     "metadata": {},
     "output_type": "display_data"
    }
   ],
   "source": [
    "plt.barh(width=reg.feature_importances_, y=X.columns)"
   ]
  },
  {
   "cell_type": "code",
   "execution_count": 142,
   "metadata": {},
   "outputs": [],
   "source": [
    "from sklearn.feature_selection import RFE"
   ]
  },
  {
   "cell_type": "code",
   "execution_count": 143,
   "metadata": {},
   "outputs": [
    {
     "data": {
      "text/html": [
       "<div>\n",
       "<style scoped>\n",
       "    .dataframe tbody tr th:only-of-type {\n",
       "        vertical-align: middle;\n",
       "    }\n",
       "\n",
       "    .dataframe tbody tr th {\n",
       "        vertical-align: top;\n",
       "    }\n",
       "\n",
       "    .dataframe thead th {\n",
       "        text-align: right;\n",
       "    }\n",
       "</style>\n",
       "<table border=\"1\" class=\"dataframe\">\n",
       "  <thead>\n",
       "    <tr style=\"text-align: right;\">\n",
       "      <th></th>\n",
       "      <th>manufacturer_name</th>\n",
       "      <th>odometer_value</th>\n",
       "      <th>year_produced</th>\n",
       "      <th>engine_capacity</th>\n",
       "      <th>drivetrain</th>\n",
       "    </tr>\n",
       "  </thead>\n",
       "  <tbody>\n",
       "    <tr>\n",
       "      <th>0</th>\n",
       "      <td>0.0</td>\n",
       "      <td>0.190000</td>\n",
       "      <td>0.883117</td>\n",
       "      <td>0.294872</td>\n",
       "      <td>0.0</td>\n",
       "    </tr>\n",
       "    <tr>\n",
       "      <th>1</th>\n",
       "      <td>0.0</td>\n",
       "      <td>0.290000</td>\n",
       "      <td>0.779221</td>\n",
       "      <td>0.358974</td>\n",
       "      <td>0.0</td>\n",
       "    </tr>\n",
       "    <tr>\n",
       "      <th>2</th>\n",
       "      <td>0.0</td>\n",
       "      <td>0.402000</td>\n",
       "      <td>0.766234</td>\n",
       "      <td>0.294872</td>\n",
       "      <td>0.0</td>\n",
       "    </tr>\n",
       "    <tr>\n",
       "      <th>3</th>\n",
       "      <td>0.0</td>\n",
       "      <td>0.010000</td>\n",
       "      <td>0.740260</td>\n",
       "      <td>0.358974</td>\n",
       "      <td>0.0</td>\n",
       "    </tr>\n",
       "    <tr>\n",
       "      <th>4</th>\n",
       "      <td>0.0</td>\n",
       "      <td>0.280000</td>\n",
       "      <td>0.766234</td>\n",
       "      <td>0.294872</td>\n",
       "      <td>0.0</td>\n",
       "    </tr>\n",
       "    <tr>\n",
       "      <th>...</th>\n",
       "      <td>...</td>\n",
       "      <td>...</td>\n",
       "      <td>...</td>\n",
       "      <td>...</td>\n",
       "      <td>...</td>\n",
       "    </tr>\n",
       "    <tr>\n",
       "      <th>38526</th>\n",
       "      <td>1.0</td>\n",
       "      <td>0.290000</td>\n",
       "      <td>0.753247</td>\n",
       "      <td>0.423077</td>\n",
       "      <td>0.5</td>\n",
       "    </tr>\n",
       "    <tr>\n",
       "      <th>38527</th>\n",
       "      <td>1.0</td>\n",
       "      <td>0.321000</td>\n",
       "      <td>0.805195</td>\n",
       "      <td>0.256410</td>\n",
       "      <td>0.5</td>\n",
       "    </tr>\n",
       "    <tr>\n",
       "      <th>38528</th>\n",
       "      <td>1.0</td>\n",
       "      <td>0.777957</td>\n",
       "      <td>0.753247</td>\n",
       "      <td>0.423077</td>\n",
       "      <td>0.5</td>\n",
       "    </tr>\n",
       "    <tr>\n",
       "      <th>38529</th>\n",
       "      <td>1.0</td>\n",
       "      <td>0.020000</td>\n",
       "      <td>0.766234</td>\n",
       "      <td>0.230769</td>\n",
       "      <td>0.5</td>\n",
       "    </tr>\n",
       "    <tr>\n",
       "      <th>38530</th>\n",
       "      <td>1.0</td>\n",
       "      <td>0.297729</td>\n",
       "      <td>0.753247</td>\n",
       "      <td>0.282051</td>\n",
       "      <td>0.5</td>\n",
       "    </tr>\n",
       "  </tbody>\n",
       "</table>\n",
       "<p>38531 rows × 5 columns</p>\n",
       "</div>"
      ],
      "text/plain": [
       "       manufacturer_name  odometer_value  year_produced  engine_capacity  \\\n",
       "0                    0.0        0.190000       0.883117         0.294872   \n",
       "1                    0.0        0.290000       0.779221         0.358974   \n",
       "2                    0.0        0.402000       0.766234         0.294872   \n",
       "3                    0.0        0.010000       0.740260         0.358974   \n",
       "4                    0.0        0.280000       0.766234         0.294872   \n",
       "...                  ...             ...            ...              ...   \n",
       "38526                1.0        0.290000       0.753247         0.423077   \n",
       "38527                1.0        0.321000       0.805195         0.256410   \n",
       "38528                1.0        0.777957       0.753247         0.423077   \n",
       "38529                1.0        0.020000       0.766234         0.230769   \n",
       "38530                1.0        0.297729       0.753247         0.282051   \n",
       "\n",
       "       drivetrain  \n",
       "0             0.0  \n",
       "1             0.0  \n",
       "2             0.0  \n",
       "3             0.0  \n",
       "4             0.0  \n",
       "...           ...  \n",
       "38526         0.5  \n",
       "38527         0.5  \n",
       "38528         0.5  \n",
       "38529         0.5  \n",
       "38530         0.5  \n",
       "\n",
       "[38531 rows x 5 columns]"
      ]
     },
     "execution_count": 143,
     "metadata": {},
     "output_type": "execute_result"
    }
   ],
   "source": [
    "rfe = RFE(estimator=reg, n_features_to_select=5, step=1).fit(X, Y)\n",
    "X_rfe = pd.DataFrame(rfe.transform(X), columns=rfe.get_feature_names_out())\n",
    "X_rfe"
   ]
  },
  {
   "cell_type": "code",
   "execution_count": 144,
   "metadata": {},
   "outputs": [
    {
     "name": "stdout",
     "output_type": "stream",
     "text": [
      "R^2: 0.876038539081031\n"
     ]
    }
   ],
   "source": [
    "test(X_rfe, Y)"
   ]
  },
  {
   "cell_type": "code",
   "execution_count": 151,
   "metadata": {},
   "outputs": [],
   "source": [
    "from sklearn.decomposition import PCA"
   ]
  },
  {
   "cell_type": "code",
   "execution_count": 167,
   "metadata": {},
   "outputs": [
    {
     "data": {
      "text/plain": [
       "(38531, 15)"
      ]
     },
     "execution_count": 167,
     "metadata": {},
     "output_type": "execute_result"
    }
   ],
   "source": [
    "pca = PCA(n_components=15)\n",
    "X_pca = pca.fit_transform(X, Y)\n",
    "X_pca.shape"
   ]
  },
  {
   "cell_type": "code",
   "execution_count": 168,
   "metadata": {},
   "outputs": [
    {
     "data": {
      "text/plain": [
       "0.9263848096107926"
      ]
     },
     "execution_count": 168,
     "metadata": {},
     "output_type": "execute_result"
    }
   ],
   "source": [
    "sum(pca.explained_variance_ratio_)"
   ]
  },
  {
   "cell_type": "code",
   "execution_count": 169,
   "metadata": {},
   "outputs": [
    {
     "name": "stdout",
     "output_type": "stream",
     "text": [
      "R^2: 0.641128069837057\n"
     ]
    }
   ],
   "source": [
    "test(X_pca, Y)"
   ]
  }
 ],
 "metadata": {
  "kernelspec": {
   "display_name": "Python 3.10.4 ('venv': venv)",
   "language": "python",
   "name": "python3"
  },
  "language_info": {
   "codemirror_mode": {
    "name": "ipython",
    "version": 3
   },
   "file_extension": ".py",
   "mimetype": "text/x-python",
   "name": "python",
   "nbconvert_exporter": "python",
   "pygments_lexer": "ipython3",
   "version": "3.10.4"
  },
  "orig_nbformat": 4,
  "vscode": {
   "interpreter": {
    "hash": "4144813e17b6f5f448ed6aaed98153edd3ff37cd658fee1dbd1b201beaf41009"
   }
  }
 },
 "nbformat": 4,
 "nbformat_minor": 2
}
