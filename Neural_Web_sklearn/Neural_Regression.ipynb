{
 "cells": [
  {
   "cell_type": "code",
   "execution_count": 20,
   "metadata": {},
   "outputs": [],
   "source": [
    "import pandas as pd\n",
    "import numpy as np\n",
    "from sklearn.model_selection import train_test_split\n",
    "from sklearn.model_selection import GridSearchCV, RandomizedSearchCV\n",
    "import tensorflow as tf\n",
    "from sklearn.metrics import mean_squared_error, mean_absolute_error"
   ]
  },
  {
   "cell_type": "code",
   "execution_count": 21,
   "metadata": {},
   "outputs": [
    {
     "data": {
      "text/plain": [
       "0"
      ]
     },
     "execution_count": 21,
     "metadata": {},
     "output_type": "execute_result"
    }
   ],
   "source": [
    "df = pd.read_csv('../Data/dataset_regression.csv')\n",
    "df.drop(['Unnamed: 0'], axis=1, inplace=True)\n",
    "df.isnull().sum().sum()"
   ]
  },
  {
   "cell_type": "code",
   "execution_count": 22,
   "metadata": {},
   "outputs": [],
   "source": [
    "y = df[\"price_usd\"]\n",
    "X = df.drop([\"price_usd\"], axis=1)"
   ]
  },
  {
   "cell_type": "code",
   "execution_count": 23,
   "metadata": {},
   "outputs": [],
   "source": [
    "X_train, X_test, y_train, y_test = train_test_split(X, y, test_size=1/3)"
   ]
  },
  {
   "cell_type": "code",
   "execution_count": 24,
   "metadata": {},
   "outputs": [],
   "source": [
    "# создаем модель, как набор последовательных слоев\n",
    "model_regression = tf.keras.Sequential(\n",
    "    [\n",
    "        # Dense - полносвязный слой (каждый нейрон следующего слоя связан со всеми нейронами предыдущего)\n",
    "        tf.keras.layers.Dense(64, activation=\"relu\", input_shape=(X.shape[1],)),\n",
    "        # на втором скрытом слое будет 32 нейрона\n",
    "        tf.keras.layers.Dense(32, activation=\"linear\"),\n",
    "        # Dropout позволяет внести фактор случайности - при обучении часть нейронов будет отключаться\n",
    "        # каждый нейрон, в данном случае, будет отключаться с вероятностью 0.1\n",
    "        tf.keras.layers.Dropout(0.1),\n",
    "        tf.keras.layers.Dense(16, activation=\"relu\"),\n",
    "        tf.keras.layers.Dropout(0.1),\n",
    "        # на выходе один нейрон, функция активации не применяется\n",
    "        tf.keras.layers.Dense(1, activation=\"linear\"),\n",
    "    ]\n",
    ")"
   ]
  },
  {
   "cell_type": "code",
   "execution_count": 25,
   "metadata": {},
   "outputs": [
    {
     "name": "stdout",
     "output_type": "stream",
     "text": [
      "Model: \"sequential_2\"\n",
      "_________________________________________________________________\n",
      " Layer (type)                Output Shape              Param #   \n",
      "=================================================================\n",
      " dense_8 (Dense)             (None, 64)                1920      \n",
      "                                                                 \n",
      " dense_9 (Dense)             (None, 32)                2080      \n",
      "                                                                 \n",
      " dropout_4 (Dropout)         (None, 32)                0         \n",
      "                                                                 \n",
      " dense_10 (Dense)            (None, 16)                528       \n",
      "                                                                 \n",
      " dropout_5 (Dropout)         (None, 16)                0         \n",
      "                                                                 \n",
      " dense_11 (Dense)            (None, 1)                 17        \n",
      "                                                                 \n",
      "=================================================================\n",
      "Total params: 4,545\n",
      "Trainable params: 4,545\n",
      "Non-trainable params: 0\n",
      "_________________________________________________________________\n"
     ]
    }
   ],
   "source": [
    "model_regression.summary()"
   ]
  },
  {
   "cell_type": "code",
   "execution_count": 26,
   "metadata": {},
   "outputs": [],
   "source": [
    "# компилируем\n",
    "model_regression.compile(optimizer=tf.keras.optimizers.Adam(learning_rate=0.005), loss=\"mse\")"
   ]
  },
  {
   "cell_type": "code",
   "execution_count": 27,
   "metadata": {},
   "outputs": [
    {
     "name": "stdout",
     "output_type": "stream",
     "text": [
      "Epoch 1/50\n",
      "803/803 [==============================] - 2s 1ms/step - loss: 56606208.0000\n",
      "Epoch 2/50\n",
      "803/803 [==============================] - 1s 1ms/step - loss: 34121336.0000\n",
      "Epoch 3/50\n",
      "803/803 [==============================] - 1s 1ms/step - loss: 31661562.0000\n",
      "Epoch 4/50\n",
      "803/803 [==============================] - 1s 1ms/step - loss: 31011292.0000\n",
      "Epoch 5/50\n",
      "803/803 [==============================] - 1s 1ms/step - loss: 29692146.0000\n",
      "Epoch 6/50\n",
      "803/803 [==============================] - 1s 1ms/step - loss: 29618404.0000\n",
      "Epoch 7/50\n",
      "803/803 [==============================] - 1s 1ms/step - loss: 29080184.0000\n",
      "Epoch 8/50\n",
      "803/803 [==============================] - 1s 1ms/step - loss: 28334536.0000\n",
      "Epoch 9/50\n",
      "803/803 [==============================] - 1s 1ms/step - loss: 27826488.0000\n",
      "Epoch 10/50\n",
      "803/803 [==============================] - 1s 1ms/step - loss: 27557710.0000\n",
      "Epoch 11/50\n",
      "803/803 [==============================] - 1s 1ms/step - loss: 27039516.0000\n",
      "Epoch 12/50\n",
      "803/803 [==============================] - 1s 1ms/step - loss: 26117918.0000\n",
      "Epoch 13/50\n",
      "803/803 [==============================] - 1s 1ms/step - loss: 24631348.0000\n",
      "Epoch 14/50\n",
      "803/803 [==============================] - 1s 1ms/step - loss: 23246632.0000\n",
      "Epoch 15/50\n",
      "803/803 [==============================] - 1s 1ms/step - loss: 22980858.0000\n",
      "Epoch 16/50\n",
      "803/803 [==============================] - 1s 1ms/step - loss: 22712108.0000\n",
      "Epoch 17/50\n",
      "803/803 [==============================] - 1s 1ms/step - loss: 21215740.0000\n",
      "Epoch 18/50\n",
      "803/803 [==============================] - 1s 1ms/step - loss: 22018632.0000\n",
      "Epoch 19/50\n",
      "803/803 [==============================] - 1s 1ms/step - loss: 21440366.0000\n",
      "Epoch 20/50\n",
      "803/803 [==============================] - 1s 1ms/step - loss: 20966684.0000\n",
      "Epoch 21/50\n",
      "803/803 [==============================] - 1s 1ms/step - loss: 20322006.0000\n",
      "Epoch 22/50\n",
      "803/803 [==============================] - 1s 1ms/step - loss: 20280450.0000\n",
      "Epoch 23/50\n",
      "803/803 [==============================] - 1s 1ms/step - loss: 20227518.0000\n",
      "Epoch 24/50\n",
      "803/803 [==============================] - 1s 1ms/step - loss: 19472388.0000\n",
      "Epoch 25/50\n",
      "803/803 [==============================] - 1s 1ms/step - loss: 19775146.0000\n",
      "Epoch 26/50\n",
      "803/803 [==============================] - 1s 1ms/step - loss: 19864592.0000\n",
      "Epoch 27/50\n",
      "803/803 [==============================] - 1s 1ms/step - loss: 19437892.0000\n",
      "Epoch 28/50\n",
      "803/803 [==============================] - 1s 1ms/step - loss: 19728850.0000\n",
      "Epoch 29/50\n",
      "803/803 [==============================] - 1s 1ms/step - loss: 19471996.0000\n",
      "Epoch 30/50\n",
      "803/803 [==============================] - 1s 1ms/step - loss: 18698592.0000\n",
      "Epoch 31/50\n",
      "803/803 [==============================] - 1s 1ms/step - loss: 19505628.0000\n",
      "Epoch 32/50\n",
      "803/803 [==============================] - 1s 1ms/step - loss: 18759388.0000\n",
      "Epoch 33/50\n",
      "803/803 [==============================] - 1s 1ms/step - loss: 18786016.0000\n",
      "Epoch 34/50\n",
      "803/803 [==============================] - 1s 1ms/step - loss: 18734094.0000\n",
      "Epoch 35/50\n",
      "803/803 [==============================] - 1s 1ms/step - loss: 18928842.0000\n",
      "Epoch 36/50\n",
      "803/803 [==============================] - 1s 1ms/step - loss: 17770710.0000\n",
      "Epoch 37/50\n",
      "803/803 [==============================] - 1s 1ms/step - loss: 19218710.0000\n",
      "Epoch 38/50\n",
      "803/803 [==============================] - 1s 1ms/step - loss: 18092604.0000\n",
      "Epoch 39/50\n",
      "803/803 [==============================] - 1s 1ms/step - loss: 18208352.0000\n",
      "Epoch 40/50\n",
      "803/803 [==============================] - 1s 1ms/step - loss: 18084416.0000\n",
      "Epoch 41/50\n",
      "803/803 [==============================] - 1s 1ms/step - loss: 18522814.0000\n",
      "Epoch 42/50\n",
      "803/803 [==============================] - 1s 1ms/step - loss: 17812582.0000\n",
      "Epoch 43/50\n",
      "803/803 [==============================] - 1s 1ms/step - loss: 17747944.0000\n",
      "Epoch 44/50\n",
      "803/803 [==============================] - 1s 1ms/step - loss: 18271226.0000\n",
      "Epoch 45/50\n",
      "803/803 [==============================] - 1s 1ms/step - loss: 18232008.0000\n",
      "Epoch 46/50\n",
      "803/803 [==============================] - 1s 1ms/step - loss: 18080734.0000\n",
      "Epoch 47/50\n",
      "803/803 [==============================] - 1s 1ms/step - loss: 17104270.0000\n",
      "Epoch 48/50\n",
      "803/803 [==============================] - 1s 1ms/step - loss: 17775562.0000\n",
      "Epoch 49/50\n",
      "803/803 [==============================] - 1s 1ms/step - loss: 17719794.0000\n",
      "Epoch 50/50\n",
      "803/803 [==============================] - 1s 1ms/step - loss: 17506378.0000\n"
     ]
    },
    {
     "data": {
      "text/plain": [
       "<keras.callbacks.History at 0x142a9cf39d0>"
      ]
     },
     "execution_count": 27,
     "metadata": {},
     "output_type": "execute_result"
    }
   ],
   "source": [
    "model_regression.fit(X_train, y_train, epochs=50)"
   ]
  },
  {
   "cell_type": "code",
   "execution_count": 28,
   "metadata": {},
   "outputs": [
    {
     "name": "stdout",
     "output_type": "stream",
     "text": [
      "402/402 [==============================] - 0s 750us/step\n",
      "2560.952003808035\n",
      "402/402 [==============================] - 0s 882us/step\n",
      "13876407.405323\n"
     ]
    }
   ],
   "source": [
    "# оцениваем качество с помощью метрик\n",
    "print(mean_absolute_error(y_test, model_regression.predict(X_test)))\n",
    "print(mean_squared_error(y_test, model_regression.predict(X_test)))"
   ]
  },
  {
   "cell_type": "code",
   "execution_count": 51,
   "metadata": {},
   "outputs": [
    {
     "name": "stdout",
     "output_type": "stream",
     "text": [
      "402/402 [==============================] - 0s 782us/step\n"
     ]
    },
    {
     "data": {
      "text/plain": [
       "array([[ 7630.582 ],\n",
       "       [ 2371.7097],\n",
       "       [11661.832 ],\n",
       "       ...,\n",
       "       [ 6220.571 ],\n",
       "       [ 2633.95  ],\n",
       "       [10133.862 ]], dtype=float32)"
      ]
     },
     "execution_count": 51,
     "metadata": {},
     "output_type": "execute_result"
    }
   ],
   "source": [
    "pred_test = model_regression.predict(X_test)\n",
    "pred_test"
   ]
  },
  {
   "cell_type": "code",
   "execution_count": 64,
   "metadata": {},
   "outputs": [
    {
     "data": {
      "text/plain": [
       "array([ 7630.582 ,  2371.7097, 11661.832 , ...,  6220.571 ,  2633.95  ,\n",
       "       10133.862 ], dtype=float32)"
      ]
     },
     "execution_count": 64,
     "metadata": {},
     "output_type": "execute_result"
    }
   ],
   "source": [
    "pred_pred = pred_test.ravel()\n",
    "pred_pred"
   ]
  },
  {
   "cell_type": "code",
   "execution_count": 66,
   "metadata": {},
   "outputs": [],
   "source": [
    "def MSE(predicted, real):\n",
    "    return np.sum((real-predicted)**2)/len(real)"
   ]
  },
  {
   "cell_type": "code",
   "execution_count": 67,
   "metadata": {},
   "outputs": [],
   "source": [
    "def R2(predicted, real):\n",
    "    return 1 - ((MSE(predicted, real) * np.mean(real)) / np.sum((real - predicted)**2))"
   ]
  },
  {
   "cell_type": "code",
   "execution_count": 68,
   "metadata": {},
   "outputs": [
    {
     "data": {
      "text/plain": [
       "0.4858537882081808"
      ]
     },
     "execution_count": 68,
     "metadata": {},
     "output_type": "execute_result"
    }
   ],
   "source": [
    "R2(pred_pred, y_test)"
   ]
  }
 ],
 "metadata": {
  "kernelspec": {
   "display_name": "Python 3.10.4 ('venv': venv)",
   "language": "python",
   "name": "python3"
  },
  "language_info": {
   "codemirror_mode": {
    "name": "ipython",
    "version": 3
   },
   "file_extension": ".py",
   "mimetype": "text/x-python",
   "name": "python",
   "nbconvert_exporter": "python",
   "pygments_lexer": "ipython3",
   "version": "3.10.4"
  },
  "orig_nbformat": 4,
  "vscode": {
   "interpreter": {
    "hash": "4144813e17b6f5f448ed6aaed98153edd3ff37cd658fee1dbd1b201beaf41009"
   }
  }
 },
 "nbformat": 4,
 "nbformat_minor": 2
}
